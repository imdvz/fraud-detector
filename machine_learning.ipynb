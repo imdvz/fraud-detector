{
 "cells": [
  {
   "cell_type": "code",
   "execution_count": null,
   "metadata": {
    "id": "pBEqhPq-7kSB"
   },
   "outputs": [],
   "source": [
    "import pandas as pd\n",
    "import numpy as np\n",
    "import matplotlib.pyplot as plt\n",
    "import seaborn as sns\n",
    "\n",
    "import warnings\n",
    "warnings.filterwarnings('ignore')"
   ]
  },
  {
   "cell_type": "code",
   "execution_count": null,
   "metadata": {
    "colab": {
     "base_uri": "https://localhost:8080/",
     "height": 206
    },
    "id": "1MzaXQqz7kSF",
    "outputId": "cf9ac77d-b7d5-4311-d40e-8843a4db3f13"
   },
   "outputs": [
    {
     "data": {
      "text/html": [
       "<div><div id=4429ccd1-6d5a-43e6-80dd-af7c8f5f2621 style=\"display:none; background-color:#9D6CFF; color:white; width:200px; height:30px; padding-left:5px; border-radius:4px; flex-direction:row; justify-content:space-around; align-items:center;\" onmouseover=\"this.style.backgroundColor='#BA9BF8'\" onmouseout=\"this.style.backgroundColor='#9D6CFF'\" onclick=\"window.commands?.execute('create-mitosheet-from-dataframe-output');\">See Full Dataframe in Mito</div> <script> if (window.commands.hasCommand('create-mitosheet-from-dataframe-output')) document.getElementById('4429ccd1-6d5a-43e6-80dd-af7c8f5f2621').style.display = 'flex' </script> <table border=\"1\" class=\"dataframe\">\n",
       "  <thead>\n",
       "    <tr style=\"text-align: right;\">\n",
       "      <th></th>\n",
       "      <th>category</th>\n",
       "      <th>amt</th>\n",
       "      <th>gender</th>\n",
       "      <th>dob</th>\n",
       "      <th>transaction_hour</th>\n",
       "      <th>is_fraud</th>\n",
       "    </tr>\n",
       "  </thead>\n",
       "  <tbody>\n",
       "    <tr>\n",
       "      <th>0</th>\n",
       "      <td>13</td>\n",
       "      <td>8.49</td>\n",
       "      <td>0</td>\n",
       "      <td>69</td>\n",
       "      <td>22</td>\n",
       "      <td>1</td>\n",
       "    </tr>\n",
       "    <tr>\n",
       "      <th>1</th>\n",
       "      <td>10</td>\n",
       "      <td>4.37</td>\n",
       "      <td>1</td>\n",
       "      <td>25</td>\n",
       "      <td>16</td>\n",
       "      <td>0</td>\n",
       "    </tr>\n",
       "    <tr>\n",
       "      <th>2</th>\n",
       "      <td>8</td>\n",
       "      <td>738.31</td>\n",
       "      <td>0</td>\n",
       "      <td>54</td>\n",
       "      <td>16</td>\n",
       "      <td>1</td>\n",
       "    </tr>\n",
       "    <tr>\n",
       "      <th>3</th>\n",
       "      <td>12</td>\n",
       "      <td>795.01</td>\n",
       "      <td>1</td>\n",
       "      <td>30</td>\n",
       "      <td>23</td>\n",
       "      <td>1</td>\n",
       "    </tr>\n",
       "    <tr>\n",
       "      <th>4</th>\n",
       "      <td>7</td>\n",
       "      <td>64.94</td>\n",
       "      <td>0</td>\n",
       "      <td>54</td>\n",
       "      <td>16</td>\n",
       "      <td>0</td>\n",
       "    </tr>\n",
       "  </tbody>\n",
       "</table></div>"
      ],
      "text/plain": [
       "   category     amt  gender  dob  transaction_hour  is_fraud\n",
       "0        13    8.49       0   69                22         1\n",
       "1        10    4.37       1   25                16         0\n",
       "2         8  738.31       0   54                16         1\n",
       "3        12  795.01       1   30                23         1\n",
       "4         7   64.94       0   54                16         0"
      ]
     },
     "execution_count": 2,
     "metadata": {},
     "output_type": "execute_result"
    }
   ],
   "source": [
    "df_final = pd.read_csv(\"cleaned_fraud_data.csv\")\n",
    "df_final.head()"
   ]
  },
  {
   "cell_type": "code",
   "execution_count": null,
   "metadata": {
    "colab": {
     "base_uri": "https://localhost:8080/"
    },
    "id": "AS29T-2x_RzR",
    "outputId": "69d0cd9f-cc2d-4883-a3f7-ca34d35cb5ec"
   },
   "outputs": [
    {
     "name": "stdout",
     "output_type": "stream",
     "text": [
      "Shape of independent variables table: (19302, 5)\n",
      "Shape of target variable table: (19302, 1)\n"
     ]
    }
   ],
   "source": [
    "X = df_final[['category', 'amt', 'gender', 'dob', 'transaction_hour']]\n",
    "y = df_final[['is_fraud']]\n",
    "\n",
    "print(\"Shape of independent variables table:\", X.shape)\n",
    "print(\"Shape of target variable table:\", y.shape)"
   ]
  },
  {
   "cell_type": "markdown",
   "metadata": {
    "id": "lW5jjIQ57kSU"
   },
   "source": [
    "## Comparing 8 classifiers using lazypredict"
   ]
  },
  {
   "cell_type": "code",
   "execution_count": null,
   "metadata": {
    "colab": {
     "base_uri": "https://localhost:8080/"
    },
    "id": "DZcuYTZ37kSU",
    "outputId": "e8e0035f-c444-4b08-b53c-355b468b053a"
   },
   "outputs": [
    {
     "name": "stdout",
     "output_type": "stream",
     "text": [
      "Requirement already satisfied: lazypredict in c:\\softwares\\python3.8.1\\lib\\site-packages (0.2.12)\n",
      "Requirement already satisfied: tqdm in c:\\softwares\\python3.8.1\\lib\\site-packages (from lazypredict) (4.62.3)\n",
      "Requirement already satisfied: lightgbm in c:\\softwares\\python3.8.1\\lib\\site-packages (from lazypredict) (3.2.1)\n",
      "Requirement already satisfied: click in c:\\softwares\\python3.8.1\\lib\\site-packages (from lazypredict) (7.1.2)\n",
      "Requirement already satisfied: xgboost in c:\\softwares\\python3.8.1\\lib\\site-packages (from lazypredict) (1.4.2)\n",
      "Requirement already satisfied: scikit-learn in c:\\softwares\\python3.8.1\\lib\\site-packages (from lazypredict) (0.23.2)\n",
      "Requirement already satisfied: pandas in c:\\users\\lenovo\\appdata\\roaming\\python\\python38\\site-packages (from lazypredict) (1.4.2)\n",
      "Requirement already satisfied: joblib in c:\\softwares\\python3.8.1\\lib\\site-packages (from lazypredict) (1.0.1)\n",
      "Requirement already satisfied: wheel in c:\\softwares\\python3.8.1\\lib\\site-packages (from lightgbm->lazypredict) (0.34.2)\n",
      "Requirement already satisfied: scipy in c:\\softwares\\python3.8.1\\lib\\site-packages (from lightgbm->lazypredict) (1.5.4)\n",
      "Requirement already satisfied: numpy in c:\\softwares\\python3.8.1\\lib\\site-packages (from lightgbm->lazypredict) (1.23.4)\n",
      "Requirement already satisfied: threadpoolctl>=2.0.0 in c:\\softwares\\python3.8.1\\lib\\site-packages (from scikit-learn->lazypredict) (2.1.0)\n",
      "Requirement already satisfied: python-dateutil>=2.8.1 in c:\\softwares\\python3.8.1\\lib\\site-packages (from pandas->lazypredict) (2.8.1)\n",
      "Requirement already satisfied: pytz>=2020.1 in c:\\users\\lenovo\\appdata\\roaming\\python\\python38\\site-packages (from pandas->lazypredict) (2022.1)\n",
      "Requirement already satisfied: colorama in c:\\users\\lenovo\\appdata\\roaming\\python\\python38\\site-packages (from tqdm->lazypredict) (0.4.3)\n",
      "Requirement already satisfied: six>=1.5 in c:\\users\\lenovo\\appdata\\roaming\\python\\python38\\site-packages (from python-dateutil>=2.8.1->pandas->lazypredict) (1.13.0)\n"
     ]
    }
   ],
   "source": [
    "!pip install lazypredict "
   ]
  },
  {
   "cell_type": "code",
   "execution_count": null,
   "metadata": {
    "id": "qT4ZTTMG7kSV"
   },
   "outputs": [],
   "source": [
    "import lazypredict \n",
    "from lazypredict import Supervised \n",
    "from lazypredict.Supervised import LazyClassifier\n",
    "from sklearn.model_selection import train_test_split\n",
    "\n",
    "plt.style.use('fivethirtyeight')\n",
    "plt.rcParams[\"figure.figsize\"] = (10,5)\n",
    "\n",
    "# train-test split\n",
    "X_train, X_valid, y_train, y_valid = train_test_split(X, y, test_size=.5, random_state=12)"
   ]
  },
  {
   "cell_type": "code",
   "execution_count": null,
   "metadata": {
    "colab": {
     "base_uri": "https://localhost:8080/"
    },
    "id": "Pg9uX-3R7kSX",
    "outputId": "82de4200-dba6-4f48-bb1f-ed0a6eb50003"
   },
   "outputs": [
    {
     "name": "stderr",
     "output_type": "stream",
     "text": [
      " 90%|█████████████████████████████████████████████████████████████████████████▌        | 26/29 [00:37<00:04,  1.35s/it]"
     ]
    },
    {
     "name": "stdout",
     "output_type": "stream",
     "text": [
      "[08:57:22] WARNING: C:/Users/Administrator/workspace/xgboost-win64_release_1.4.0/src/learner.cc:1095: Starting in XGBoost 1.3.0, the default evaluation metric used with the objective 'binary:logistic' was changed from 'error' to 'logloss'. Explicitly set eval_metric if you'd like to restore the old behavior.\n"
     ]
    },
    {
     "name": "stderr",
     "output_type": "stream",
     "text": [
      "100%|██████████████████████████████████████████████████████████████████████████████████| 29/29 [00:38<00:00,  1.33s/it]\n"
     ]
    }
   ],
   "source": [
    "clf = LazyClassifier(verbose=0,\n",
    "                     ignore_warnings=True,\n",
    "                     custom_metric=None,\n",
    "                     random_state=12,\n",
    "                     classifiers='all',\n",
    "                    )\n",
    "models, predictions = clf.fit(X_train, X_valid, y_train, y_valid)"
   ]
  },
  {
   "cell_type": "code",
   "execution_count": null,
   "metadata": {
    "colab": {
     "base_uri": "https://localhost:8080/",
     "height": 331
    },
    "id": "oZ_4psl87kSX",
    "outputId": "db544556-ddf5-49b0-ffee-bf28e2c2cbfb"
   },
   "outputs": [
    {
     "data": {
      "text/html": [
       "<div><div id=d2383506-4e27-41dd-a086-a91af137c028 style=\"display:none; background-color:#9D6CFF; color:white; width:200px; height:30px; padding-left:5px; border-radius:4px; flex-direction:row; justify-content:space-around; align-items:center;\" onmouseover=\"this.style.backgroundColor='#BA9BF8'\" onmouseout=\"this.style.backgroundColor='#9D6CFF'\" onclick=\"window.commands?.execute('create-mitosheet-from-dataframe-output');\">See Full Dataframe in Mito</div> <script> if (window.commands.hasCommand('create-mitosheet-from-dataframe-output')) document.getElementById('d2383506-4e27-41dd-a086-a91af137c028').style.display = 'flex' </script> <table border=\"1\" class=\"dataframe\">\n",
       "  <thead>\n",
       "    <tr style=\"text-align: right;\">\n",
       "      <th></th>\n",
       "      <th>Accuracy</th>\n",
       "      <th>Balanced Accuracy</th>\n",
       "      <th>ROC AUC</th>\n",
       "      <th>F1 Score</th>\n",
       "      <th>Time Taken</th>\n",
       "    </tr>\n",
       "    <tr>\n",
       "      <th>Model</th>\n",
       "      <th></th>\n",
       "      <th></th>\n",
       "      <th></th>\n",
       "      <th></th>\n",
       "      <th></th>\n",
       "    </tr>\n",
       "  </thead>\n",
       "  <tbody>\n",
       "    <tr>\n",
       "      <th>LGBMClassifier</th>\n",
       "      <td>0.98</td>\n",
       "      <td>0.98</td>\n",
       "      <td>0.98</td>\n",
       "      <td>0.98</td>\n",
       "      <td>0.29</td>\n",
       "    </tr>\n",
       "    <tr>\n",
       "      <th>RandomForestClassifier</th>\n",
       "      <td>0.98</td>\n",
       "      <td>0.98</td>\n",
       "      <td>0.98</td>\n",
       "      <td>0.98</td>\n",
       "      <td>1.81</td>\n",
       "    </tr>\n",
       "    <tr>\n",
       "      <th>XGBClassifier</th>\n",
       "      <td>0.97</td>\n",
       "      <td>0.97</td>\n",
       "      <td>0.97</td>\n",
       "      <td>0.97</td>\n",
       "      <td>1.08</td>\n",
       "    </tr>\n",
       "    <tr>\n",
       "      <th>ExtraTreesClassifier</th>\n",
       "      <td>0.97</td>\n",
       "      <td>0.97</td>\n",
       "      <td>0.97</td>\n",
       "      <td>0.97</td>\n",
       "      <td>1.38</td>\n",
       "    </tr>\n",
       "    <tr>\n",
       "      <th>BaggingClassifier</th>\n",
       "      <td>0.97</td>\n",
       "      <td>0.97</td>\n",
       "      <td>0.97</td>\n",
       "      <td>0.97</td>\n",
       "      <td>0.38</td>\n",
       "    </tr>\n",
       "    <tr>\n",
       "      <th>DecisionTreeClassifier</th>\n",
       "      <td>0.97</td>\n",
       "      <td>0.97</td>\n",
       "      <td>0.97</td>\n",
       "      <td>0.97</td>\n",
       "      <td>0.10</td>\n",
       "    </tr>\n",
       "    <tr>\n",
       "      <th>ExtraTreeClassifier</th>\n",
       "      <td>0.95</td>\n",
       "      <td>0.95</td>\n",
       "      <td>0.95</td>\n",
       "      <td>0.95</td>\n",
       "      <td>0.06</td>\n",
       "    </tr>\n",
       "    <tr>\n",
       "      <th>KNeighborsClassifier</th>\n",
       "      <td>0.94</td>\n",
       "      <td>0.94</td>\n",
       "      <td>0.94</td>\n",
       "      <td>0.94</td>\n",
       "      <td>0.81</td>\n",
       "    </tr>\n",
       "  </tbody>\n",
       "</table></div>"
      ],
      "text/plain": [
       "                        Accuracy  Balanced Accuracy  ROC AUC  F1 Score  \\\n",
       "Model                                                                    \n",
       "LGBMClassifier              0.98               0.98     0.98      0.98   \n",
       "RandomForestClassifier      0.98               0.98     0.98      0.98   \n",
       "XGBClassifier               0.97               0.97     0.97      0.97   \n",
       "ExtraTreesClassifier        0.97               0.97     0.97      0.97   \n",
       "BaggingClassifier           0.97               0.97     0.97      0.97   \n",
       "DecisionTreeClassifier      0.97               0.97     0.97      0.97   \n",
       "ExtraTreeClassifier         0.95               0.95     0.95      0.95   \n",
       "KNeighborsClassifier        0.94               0.94     0.94      0.94   \n",
       "\n",
       "                        Time Taken  \n",
       "Model                               \n",
       "LGBMClassifier                0.29  \n",
       "RandomForestClassifier        1.81  \n",
       "XGBClassifier                 1.08  \n",
       "ExtraTreesClassifier          1.38  \n",
       "BaggingClassifier             0.38  \n",
       "DecisionTreeClassifier        0.10  \n",
       "ExtraTreeClassifier           0.06  \n",
       "KNeighborsClassifier          0.81  "
      ]
     },
     "execution_count": 48,
     "metadata": {},
     "output_type": "execute_result"
    }
   ],
   "source": [
    "models.head(8)"
   ]
  },
  {
   "cell_type": "code",
   "execution_count": null,
   "metadata": {
    "colab": {
     "base_uri": "https://localhost:8080/"
    },
    "id": "FvVxXs807kSX",
    "outputId": "ea9759ab-ec94-4857-a19c-58a89308d71f"
   },
   "outputs": [
    {
     "data": {
      "text/plain": [
       "Model\n",
       "LGBMClassifier           0.98\n",
       "RandomForestClassifier   0.98\n",
       "XGBClassifier            0.97\n",
       "ExtraTreesClassifier     0.97\n",
       "BaggingClassifier        0.97\n",
       "DecisionTreeClassifier   0.97\n",
       "ExtraTreeClassifier      0.95\n",
       "KNeighborsClassifier     0.94\n",
       "Name: Accuracy, dtype: float64"
      ]
     },
     "execution_count": 8,
     "metadata": {},
     "output_type": "execute_result"
    }
   ],
   "source": [
    "models[\"Accuracy\"][0:8]"
   ]
  },
  {
   "cell_type": "code",
   "execution_count": null,
   "metadata": {
    "colab": {
     "base_uri": "https://localhost:8080/",
     "height": 383
    },
    "id": "OpxM1n-f7kSY",
    "outputId": "e0d47d2b-1454-4095-f761-c97e66063300"
   },
   "outputs": [
    {
     "data": {
      "image/png": "[encoded data removed]",
      "text/plain": [
       "<Figure size 720x360 with 1 Axes>"
      ]
     },
     "metadata": {},
     "output_type": "display_data"
    }
   ],
   "source": [
    "idx = [i for i in range(1,28)]\n",
    "plt.plot(idx[0:8], models[\"Accuracy\"][0:8]  ,marker='o' , label = \"Accuracy\" )\n",
    "plt.plot(idx[0:8], models[\"ROC AUC\"][0:8] , marker ='o' , label = \"ROC AUC\")\n",
    "plt.annotate(models.index[0] , \n",
    "             (1, models[\"Accuracy\"][0]) , \n",
    "             xytext = (0.7, 0.96),\n",
    "             arrowprops = dict(\n",
    "                               arrowstyle = \"simple\"\n",
    "                              ))\n",
    "plt.annotate(models.index[7] , \n",
    "             (8, models[\"Accuracy\"][7]) , \n",
    "             xytext = (5, models[\"Accuracy\"][7]),\n",
    "             arrowprops = dict(\n",
    "                               arrowstyle = \"simple\"\n",
    "                              ))\n",
    "plt.xlabel(\"Models\")\n",
    "plt.ylabel(\"Metrics\")\n",
    "plt.title(\"Comparison of 8 Different Classifiers\")\n",
    "plt.legend()\n",
    "plt.show()"
   ]
  },
  {
   "cell_type": "markdown",
   "metadata": {
    "id": "VTpyUEMv7kSZ"
   },
   "source": [
    "## XGBOOST Classifier"
   ]
  },
  {
   "cell_type": "code",
   "execution_count": null,
   "metadata": {
    "colab": {
     "base_uri": "https://localhost:8080/"
    },
    "id": "ul81vDL77kSZ",
    "outputId": "21d9b3f8-372d-4d65-b70f-30292f3e43c0"
   },
   "outputs": [
    {
     "data": {
      "text/plain": [
       "XGBClassifier()"
      ]
     },
     "execution_count": 19,
     "metadata": {},
     "output_type": "execute_result"
    }
   ],
   "source": [
    "import xgboost as xgb\n",
    "my_model = xgb.XGBClassifier()\n",
    "my_model.fit(X_train, y_train)"
   ]
  },
  {
   "cell_type": "code",
   "execution_count": null,
   "metadata": {
    "colab": {
     "base_uri": "https://localhost:8080/"
    },
    "id": "gCFOe8t87kSa",
    "outputId": "ec5d17ea-acad-4dd1-929c-50768d7651ae"
   },
   "outputs": [
    {
     "name": "stdout",
     "output_type": "stream",
     "text": [
      "ROC AUC before parameter tuning: 0.9943464540863831\n"
     ]
    }
   ],
   "source": [
    "import sklearn.metrics as metrics\n",
    "y_pred = my_model.predict_proba(X_valid)[:,1]\n",
    "print(\"ROC AUC before parameter tuning:\", metrics.roc_auc_score(y_valid, y_pred))"
   ]
  },
  {
   "cell_type": "code",
   "execution_count": null,
   "metadata": {
    "colab": {
     "base_uri": "https://localhost:8080/"
    },
    "id": "MOowO-Lr7kSa",
    "outputId": "44547483-1662-48c1-f707-825ab7317e97"
   },
   "outputs": [
    {
     "data": {
      "text/plain": [
       "0.9675681276551653"
      ]
     },
     "execution_count": 21,
     "metadata": {},
     "output_type": "execute_result"
    }
   ],
   "source": [
    "from sklearn.metrics import accuracy_score\n",
    "\n",
    "y_pred = my_model.predict(X_valid)\n",
    "y_pred = [round(value) for value in y_pred]\n",
    "\n",
    "# Evaluate predictions\n",
    "accuracy_score(y_valid, y_pred)"
   ]
  },
  {
   "cell_type": "markdown",
   "metadata": {
    "id": "yq4BkuIS7kSb"
   },
   "source": [
    "### Hyper-Parameter Tuning"
   ]
  },
  {
   "cell_type": "code",
   "execution_count": null,
   "metadata": {
    "colab": {
     "base_uri": "https://localhost:8080/"
    },
    "id": "7d6kD61m7kSb",
    "outputId": "c7a0b608-ab15-436b-960f-abe0e3326195",
    "scrolled": true
   },
   "outputs": [
    {
     "name": "stdout",
     "output_type": "stream",
     "text": [
      "SCORE:\n",
      "0.9183504300072531\n",
      "SCORE:\n",
      "0.9274686560978137\n",
      "SCORE:\n",
      "0.9248782509584499\n",
      "SCORE:\n",
      "0.9181431975961041\n",
      "SCORE:\n",
      "0.9246710185473008\n",
      "SCORE:\n",
      "0.9268469588643664\n",
      "SCORE:\n",
      "0.9249818671640244\n",
      "SCORE:\n",
      "0.9227023106413843\n",
      "SCORE:\n",
      "0.9206299865298933\n",
      "SCORE:\n",
      "0.9262252616309191\n",
      "SCORE:\n",
      "0.9245674023417263\n",
      "SCORE:\n",
      "0.9261216454253445\n",
      "SCORE:\n",
      "0.9263288778364936\n",
      "SCORE:\n",
      "0.9175215003626567\n",
      "SCORE:\n",
      "0.9198010568852969\n",
      "SCORE:\n",
      "0.9245674023417263\n",
      "SCORE:\n",
      "0.9251890995751736\n",
      "SCORE:\n",
      "0.92601802921977\n",
      "SCORE:\n",
      "0.9262252616309191\n",
      "SCORE:\n",
      "0.9247746347528754\n",
      "SCORE:\n",
      "0.9282975857424101\n",
      "SCORE:\n",
      "0.9261216454253445\n",
      "SCORE:\n",
      "0.9287120505647083\n",
      "SCORE:\n",
      "0.9288156667702828\n",
      "SCORE:\n",
      "0.9250854833695991\n",
      "SCORE:\n",
      "0.92715780748109\n",
      "SCORE:\n",
      "0.9238420889027044\n",
      "SCORE:\n",
      "0.9234276240804061\n",
      "SCORE:\n",
      "0.9272614236866646\n",
      "SCORE:\n",
      "0.9188685110351259\n",
      "SCORE:\n",
      "0.9186612786239768\n",
      "SCORE:\n",
      "0.9243601699305771\n",
      "SCORE:\n",
      "0.9239457051082789\n",
      "SCORE:\n",
      "0.9254999481918972\n",
      "SCORE:\n",
      "0.9261216454253445\n",
      "SCORE:\n",
      "0.9247746347528754\n",
      "SCORE:\n",
      "0.9199046730908714\n",
      "SCORE:\n",
      "0.9242565537250026\n",
      "SCORE:\n",
      "0.9248782509584499\n",
      "SCORE:\n",
      "0.9282975857424101\n",
      "SCORE:\n",
      "0.9176251165682313\n",
      "SCORE:\n",
      "0.9249818671640244\n",
      "SCORE:\n",
      "0.9266397264532172\n",
      "SCORE:\n",
      "0.9249818671640244\n",
      "SCORE:\n",
      "0.9176251165682313\n",
      "SCORE:\n",
      "0.9272614236866646\n",
      "SCORE:\n",
      "0.9212516837633405\n",
      "SCORE:\n",
      "0.9272614236866646\n",
      "SCORE:\n",
      "0.9238420889027044\n",
      "SCORE:\n",
      "0.9264324940420682\n",
      "SCORE:\n",
      "0.9191793596518496\n",
      "SCORE:\n",
      "0.9233240078748316\n",
      "SCORE:\n",
      "0.9235312402859808\n",
      "SCORE:\n",
      "0.9247746347528754\n",
      "SCORE:\n",
      "0.9276758885089628\n",
      "SCORE:\n",
      "0.9265361102476427\n",
      "SCORE:\n",
      "0.92715780748109\n",
      "SCORE:\n",
      "0.9249818671640244\n",
      "SCORE:\n",
      "0.9250854833695991\n",
      "SCORE:\n",
      "0.9187648948295514\n",
      "SCORE:\n",
      "0.9270541912755155\n",
      "SCORE:\n",
      "0.9246710185473008\n",
      "SCORE:\n",
      "0.92601802921977\n",
      "SCORE:\n",
      "0.9171070355403586\n",
      "SCORE:\n",
      "0.9275722723033882\n",
      "SCORE:\n",
      "0.928090353331261\n",
      "SCORE:\n",
      "0.9285048181535592\n",
      "SCORE:\n",
      "0.9275722723033882\n",
      "SCORE:\n",
      "0.9259144130141954\n",
      "SCORE:\n",
      "0.9275722723033882\n",
      "SCORE:\n",
      "0.9249818671640244\n",
      "SCORE:\n",
      "0.9286084343591338\n",
      "SCORE:\n",
      "0.9212516837633405\n",
      "SCORE:\n",
      "0.9258107968086209\n",
      "SCORE:\n",
      "0.9250854833695991\n",
      "SCORE:\n",
      "0.9275722723033882\n",
      "SCORE:\n",
      "0.9250854833695991\n",
      "SCORE:\n",
      "0.9266397264532172\n",
      "SCORE:\n",
      "0.9258107968086209\n",
      "SCORE:\n",
      "0.9256035643974717\n",
      "SCORE:\n",
      "0.9248782509584499\n",
      "SCORE:\n",
      "0.9262252616309191\n",
      "SCORE:\n",
      "0.9267433426587919\n",
      "SCORE:\n",
      "0.9238420889027044\n",
      "SCORE:\n",
      "0.9265361102476427\n",
      "SCORE:\n",
      "0.9272614236866646\n",
      "SCORE:\n",
      "0.9182468138016786\n",
      "SCORE:\n",
      "0.9278831209201119\n",
      "SCORE:\n",
      "0.9269505750699409\n",
      "SCORE:\n",
      "0.923013159258108\n",
      "SCORE:\n",
      "0.9237384726971298\n",
      "SCORE:\n",
      "0.9246710185473008\n",
      "SCORE:\n",
      "0.9236348564915553\n",
      "SCORE:\n",
      "0.9249818671640244\n",
      "SCORE:\n",
      "0.9262252616309191\n",
      "SCORE:\n",
      "0.9238420889027044\n",
      "SCORE:\n",
      "0.9247746347528754\n",
      "SCORE:\n",
      "0.9282975857424101\n",
      "SCORE:\n",
      "0.9276758885089628\n",
      "SCORE:\n",
      "0.9237384726971298\n",
      "100%|██████████| 100/100 [01:48<00:00,  1.08s/it, best loss: -0.9288156667702828]\n"
     ]
    }
   ],
   "source": [
    "# For hyperparameters tuning\n",
    "from hyperopt import STATUS_OK, Trials, fmin, hp, tpe\n",
    "\n",
    "space={'max_depth': hp.quniform(\"max_depth\", 3, 18, 1),\n",
    "        'gamma': hp.uniform ('gamma', 1,9),\n",
    "        'reg_alpha' : hp.quniform('reg_alpha', 40,180,1),\n",
    "        'reg_lambda' : hp.uniform('reg_lambda', 0,1),\n",
    "        'colsample_bytree' : hp.uniform('colsample_bytree', 0.5,1),\n",
    "        'min_child_weight' : hp.quniform('min_child_weight', 0, 10, 1),\n",
    "        'n_estimators': 180,\n",
    "        'seed': 0\n",
    "    }\n",
    "\n",
    "def objective(space):\n",
    "    clf=xgb.XGBClassifier(\n",
    "                    n_estimators =space['n_estimators'], max_depth = int(space['max_depth']), gamma = space['gamma'],\n",
    "                    reg_alpha = int(space['reg_alpha']),min_child_weight=int(space['min_child_weight']),\n",
    "                    colsample_bytree=int(space['colsample_bytree']))\n",
    "    \n",
    "    evaluation = [( X_train, y_train), ( X_valid, y_valid)]\n",
    "    \n",
    "    clf.fit(X_train, y_train,\n",
    "            eval_set=evaluation, eval_metric=\"auc\",\n",
    "            early_stopping_rounds=10,verbose=False)\n",
    "    \n",
    "\n",
    "    pred = clf.predict(X_valid)\n",
    "    accuracy = accuracy_score(y_valid, pred>0.5)\n",
    "    print (\"SCORE:\", accuracy)\n",
    "    return {'loss': -accuracy, 'status': STATUS_OK }\n",
    "\n",
    "trials = Trials()\n",
    "\n",
    "best_hyperparams = fmin(fn = objective,\n",
    "                        space = space,\n",
    "                        algo = tpe.suggest,\n",
    "                        max_evals = 100,\n",
    "                        trials = trials)"
   ]
  },
  {
   "cell_type": "code",
   "execution_count": null,
   "metadata": {
    "colab": {
     "base_uri": "https://localhost:8080/"
    },
    "id": "v4_fBQ0t7kSc",
    "outputId": "7e9d9ca7-01a5-4e3d-ae88-f5cf79b162ba"
   },
   "outputs": [
    {
     "name": "stdout",
     "output_type": "stream",
     "text": [
      "The best hyperparameters are :  \n",
      "\n",
      "{'colsample_bytree': 0.5056727415309088, 'gamma': 2.2214829868744967, 'max_depth': 12.0, 'min_child_weight': 3.0, 'reg_alpha': 41.0, 'reg_lambda': 0.998085867812219}\n"
     ]
    }
   ],
   "source": [
    "print(\"The best hyperparameters are : \",\"\\n\")\n",
    "print(best_hyperparams)"
   ]
  },
  {
   "cell_type": "code",
   "execution_count": null,
   "metadata": {
    "colab": {
     "base_uri": "https://localhost:8080/"
    },
    "id": "8aPPF5WM7kSd",
    "outputId": "83ac56e8-b364-46cd-daf0-1b7020932827"
   },
   "outputs": [
    {
     "data": {
      "text/plain": [
       "XGBClassifier(colsample_bytree=0.998807267028738, gamma=1.321962425893548,\n",
       "              max_depth=10, min_child_weight=0.0, reg_alpha=43.0,\n",
       "              reg_lambda=0.4888063780234211)"
      ]
     },
     "execution_count": 24,
     "metadata": {},
     "output_type": "execute_result"
    }
   ],
   "source": [
    "tuned_xgb = xgb.XGBClassifier(colsample_bytree= 0.998807267028738, gamma= 1.321962425893548,max_depth=10, min_child_weight= 0.0, reg_alpha=43.0, reg_lambda= 0.4888063780234211)\n",
    "tuned_xgb.fit(X_train, y_train)"
   ]
  },
  {
   "cell_type": "code",
   "execution_count": null,
   "metadata": {
    "colab": {
     "base_uri": "https://localhost:8080/"
    },
    "id": "S4VCl2iR7kSd",
    "outputId": "aaaf3553-f742-4904-a53b-67ff4815e1df"
   },
   "outputs": [
    {
     "data": {
      "text/plain": [
       "0.9547197181639209"
      ]
     },
     "execution_count": 25,
     "metadata": {},
     "output_type": "execute_result"
    }
   ],
   "source": [
    "y_pred = tuned_xgb.predict(X_valid)\n",
    "y_pred = [round(value) for value in y_pred]\n",
    "\n",
    "# Evaluate predictions\n",
    "accuracy_score(y_valid, y_pred)"
   ]
  },
  {
   "cell_type": "code",
   "execution_count": null,
   "metadata": {
    "colab": {
     "base_uri": "https://localhost:8080/"
    },
    "id": "ZiIgyLFh7kSe",
    "outputId": "84439683-b043-4d94-dc9d-76b19bf80e08"
   },
   "outputs": [
    {
     "name": "stdout",
     "output_type": "stream",
     "text": [
      "ROC AUC after parameter tuning: 0.9903530152359397\n"
     ]
    }
   ],
   "source": [
    "y_pred = tuned_xgb.predict_proba(X_valid)[:,1]\n",
    "print(\"ROC AUC after parameter tuning:\", metrics.roc_auc_score(y_valid, y_pred))"
   ]
  },
  {
   "cell_type": "markdown",
   "metadata": {
    "id": "nYypGOe47kSe"
   },
   "source": [
    "After comparing ROC AUC of before and after parameter tuning, we can conclude that our model is performing better without tuning and has the best parameters by default."
   ]
  },
  {
   "cell_type": "markdown",
   "metadata": {
    "id": "-jNzBjeT7kSf"
   },
   "source": [
    "## LightGBM Classifier"
   ]
  },
  {
   "cell_type": "code",
   "execution_count": null,
   "metadata": {
    "colab": {
     "base_uri": "https://localhost:8080/"
    },
    "id": "PJRG-Syl7kSf",
    "outputId": "a3c2a23b-57b3-4a41-e186-c9d37f51b3a3"
   },
   "outputs": [
    {
     "data": {
      "text/plain": [
       "LGBMClassifier()"
      ]
     },
     "execution_count": 27,
     "metadata": {},
     "output_type": "execute_result"
    }
   ],
   "source": [
    "from lightgbm import LGBMClassifier\n",
    "model = LGBMClassifier()\n",
    "model.fit(X_train, y_train)"
   ]
  },
  {
   "cell_type": "code",
   "execution_count": null,
   "metadata": {
    "colab": {
     "base_uri": "https://localhost:8080/"
    },
    "id": "2JdlGiF07kSf",
    "outputId": "3844226d-30ec-4e9a-e0ea-cae4572ab06b"
   },
   "outputs": [
    {
     "data": {
      "text/plain": [
       "0.9746140296342348"
      ]
     },
     "execution_count": 28,
     "metadata": {},
     "output_type": "execute_result"
    }
   ],
   "source": [
    "y_pred = model.predict(X_valid)\n",
    "y_pred = [round(value) for value in y_pred]\n",
    "\n",
    "accuracy_score(y_valid, y_pred)"
   ]
  },
  {
   "cell_type": "code",
   "execution_count": null,
   "metadata": {
    "colab": {
     "base_uri": "https://localhost:8080/"
    },
    "id": "26nVmikt7kSg",
    "outputId": "502d85a8-02fd-4dd9-d0e7-1a50bd8da457"
   },
   "outputs": [
    {
     "name": "stdout",
     "output_type": "stream",
     "text": [
      "ROC AUC before parameter tuning: 0.9970899865595554\n"
     ]
    }
   ],
   "source": [
    "y_pred = model.predict_proba(X_valid)[:,1]\n",
    "print(\"ROC AUC before parameter tuning:\", metrics.roc_auc_score(y_valid, y_pred))"
   ]
  },
  {
   "cell_type": "markdown",
   "metadata": {
    "id": "8NTzH9iJ7kSg"
   },
   "source": [
    "### Hyper-Parameter Tuning of LightGBM Classifier"
   ]
  },
  {
   "cell_type": "code",
   "execution_count": null,
   "metadata": {
    "colab": {
     "base_uri": "https://localhost:8080/"
    },
    "id": "7a__dMlW7kSh",
    "outputId": "616a1e63-c796-4fc3-9b88-2ea3d9c07068"
   },
   "outputs": [
    {
     "data": {
      "text/plain": [
       "LGBMClassifier(colsample_bytree=0.9234, metric='None', min_child_samples=399,\n",
       "               min_child_weight=0.1, n_estimators=5000, n_jobs=4, num_leaves=13,\n",
       "               random_state=314, reg_alpha=2, reg_lambda=5, subsample=0.855)"
      ]
     },
     "execution_count": 30,
     "metadata": {},
     "output_type": "execute_result"
    }
   ],
   "source": [
    "import lightgbm as lgb\n",
    "from scipy.stats import randint as sp_randint\n",
    "from scipy.stats import uniform as sp_uniform\n",
    "from sklearn.model_selection import RandomizedSearchCV, GridSearchCV\n",
    "\n",
    "fit_params = {\"early_stopping_rounds\":30, \"eval_metric\" : 'auc', \"eval_set\" : [(X_valid,y_valid)],\n",
    "            'eval_names': ['valid'], 'verbose': 100, 'categorical_feature': 'auto'}\n",
    "\n",
    "test_params = {'num_leaves': sp_randint(6, 50), 'min_child_samples': sp_randint(100, 500), \n",
    "             'min_child_weight': [1e-5, 1e-3, 1e-2, 1e-1, 1, 1e1, 1e2, 1e3, 1e4],\n",
    "             'subsample': sp_uniform(loc=0.2, scale=0.8), \n",
    "             'colsample_bytree': sp_uniform(loc=0.4, scale=0.6),\n",
    "             'reg_alpha': [0, 1e-1, 1, 2, 5, 7, 10, 50, 100],\n",
    "             'reg_lambda': [0, 1e-1, 1, 5, 10, 20, 50, 100]}\n",
    "\n",
    "# Parameter defining the number of HP points to be tested\n",
    "hp_points = 100\n",
    "\n",
    "# n_estimators is set to a \"large value\". The actual number of trees build will depend on early stopping and 5000 define only the absolute maximum\n",
    "clf = lgb.LGBMClassifier(max_depth=-1, random_state=314, silent=True, metric='None', n_jobs=4, n_estimators=5000)\n",
    "gs = RandomizedSearchCV(estimator=clf, param_distributions=test_params, \n",
    "    n_iter=hp_points, scoring='roc_auc', cv=3, refit=True, random_state=314, verbose=True)\n",
    "\n",
    "# Optimal parameters\n",
    "opt_parameters = {'colsample_bytree': 0.9234, 'min_child_samples': 399, 'min_child_weight': 0.1, 'num_leaves': 13, 'reg_alpha': 2, 'reg_lambda': 5, 'subsample': 0.855}\n",
    "\n",
    "clf_sw = lgb.LGBMClassifier(**clf.get_params())\n",
    "# Set optimal parameters\n",
    "clf_sw.set_params(**opt_parameters)"
   ]
  },
  {
   "cell_type": "code",
   "execution_count": null,
   "metadata": {
    "colab": {
     "base_uri": "https://localhost:8080/"
    },
    "id": "tRHQj7i47kSh",
    "outputId": "51784925-57d2-491d-9386-ae84a762d569",
    "scrolled": true
   },
   "outputs": [
    {
     "name": "stdout",
     "output_type": "stream",
     "text": [
      "Fitting 5 folds for each of 4 candidates, totalling 20 fits\n",
      "Training until validation scores don't improve for 30 rounds.\n",
      "[100]\tvalid's auc: 0.992572\n",
      "[200]\tvalid's auc: 0.99517\n",
      "[300]\tvalid's auc: 0.995826\n",
      "[400]\tvalid's auc: 0.996072\n",
      "[500]\tvalid's auc: 0.996188\n",
      "Early stopping, best iteration is:\n",
      "[504]\tvalid's auc: 0.996195\n",
      "Training until validation scores don't improve for 30 rounds.\n",
      "[100]\tvalid's auc: 0.993436\n",
      "[200]\tvalid's auc: 0.995431\n",
      "[300]\tvalid's auc: 0.995939\n",
      "[400]\tvalid's auc: 0.996175\n",
      "[500]\tvalid's auc: 0.996291\n",
      "[600]\tvalid's auc: 0.996425\n",
      "Early stopping, best iteration is:\n",
      "[665]\tvalid's auc: 0.99649\n",
      "Training until validation scores don't improve for 30 rounds.\n",
      "[100]\tvalid's auc: 0.993013\n",
      "[200]\tvalid's auc: 0.995134\n",
      "[300]\tvalid's auc: 0.995832\n",
      "[400]\tvalid's auc: 0.996166\n",
      "[500]\tvalid's auc: 0.996324\n",
      "[600]\tvalid's auc: 0.996437\n",
      "Early stopping, best iteration is:\n",
      "[636]\tvalid's auc: 0.996451\n",
      "Training until validation scores don't improve for 30 rounds.\n",
      "[100]\tvalid's auc: 0.992869\n",
      "[200]\tvalid's auc: 0.995348\n",
      "[300]\tvalid's auc: 0.996013\n",
      "[400]\tvalid's auc: 0.996267\n",
      "[500]\tvalid's auc: 0.996399\n",
      "[600]\tvalid's auc: 0.996486\n",
      "Early stopping, best iteration is:\n",
      "[583]\tvalid's auc: 0.996487\n",
      "Training until validation scores don't improve for 30 rounds.\n",
      "[100]\tvalid's auc: 0.993459\n",
      "[200]\tvalid's auc: 0.995527\n",
      "[300]\tvalid's auc: 0.996086\n",
      "[400]\tvalid's auc: 0.996341\n",
      "[500]\tvalid's auc: 0.996494\n",
      "Early stopping, best iteration is:\n",
      "[528]\tvalid's auc: 0.996541\n",
      "Training until validation scores don't improve for 30 rounds.\n",
      "[100]\tvalid's auc: 0.993381\n",
      "[200]\tvalid's auc: 0.995359\n",
      "[300]\tvalid's auc: 0.995979\n",
      "[400]\tvalid's auc: 0.996173\n",
      "[500]\tvalid's auc: 0.996233\n",
      "Early stopping, best iteration is:\n",
      "[475]\tvalid's auc: 0.99624\n",
      "Training until validation scores don't improve for 30 rounds.\n",
      "[100]\tvalid's auc: 0.993612\n",
      "[200]\tvalid's auc: 0.995506\n",
      "[300]\tvalid's auc: 0.9961\n",
      "[400]\tvalid's auc: 0.996325\n",
      "[500]\tvalid's auc: 0.99644\n",
      "[600]\tvalid's auc: 0.996505\n",
      "[700]\tvalid's auc: 0.996581\n",
      "Early stopping, best iteration is:\n",
      "[744]\tvalid's auc: 0.996605\n",
      "Training until validation scores don't improve for 30 rounds.\n",
      "[100]\tvalid's auc: 0.99321\n",
      "[200]\tvalid's auc: 0.995325\n",
      "[300]\tvalid's auc: 0.996034\n",
      "[400]\tvalid's auc: 0.996299\n",
      "[500]\tvalid's auc: 0.996446\n",
      "[600]\tvalid's auc: 0.996558\n",
      "Early stopping, best iteration is:\n",
      "[651]\tvalid's auc: 0.996577\n",
      "Training until validation scores don't improve for 30 rounds.\n",
      "[100]\tvalid's auc: 0.993269\n",
      "[200]\tvalid's auc: 0.995581\n",
      "[300]\tvalid's auc: 0.996214\n",
      "[400]\tvalid's auc: 0.996406\n",
      "Early stopping, best iteration is:\n",
      "[451]\tvalid's auc: 0.996521\n",
      "Training until validation scores don't improve for 30 rounds.\n",
      "[100]\tvalid's auc: 0.993693\n",
      "[200]\tvalid's auc: 0.99565\n",
      "[300]\tvalid's auc: 0.996242\n",
      "[400]\tvalid's auc: 0.996479\n",
      "[500]\tvalid's auc: 0.996565\n",
      "[600]\tvalid's auc: 0.996643\n",
      "Early stopping, best iteration is:\n",
      "[640]\tvalid's auc: 0.996656\n",
      "Training until validation scores don't improve for 30 rounds.\n",
      "[100]\tvalid's auc: 0.993182\n",
      "[200]\tvalid's auc: 0.995123\n",
      "[300]\tvalid's auc: 0.995772\n",
      "[400]\tvalid's auc: 0.996051\n",
      "[500]\tvalid's auc: 0.996134\n",
      "Early stopping, best iteration is:\n",
      "[553]\tvalid's auc: 0.996186\n",
      "Training until validation scores don't improve for 30 rounds.\n",
      "[100]\tvalid's auc: 0.993751\n",
      "[200]\tvalid's auc: 0.995685\n",
      "[300]\tvalid's auc: 0.996174\n",
      "[400]\tvalid's auc: 0.996421\n",
      "[500]\tvalid's auc: 0.996501\n",
      "[600]\tvalid's auc: 0.9966\n",
      "Early stopping, best iteration is:\n",
      "[622]\tvalid's auc: 0.99664\n",
      "Training until validation scores don't improve for 30 rounds.\n",
      "[100]\tvalid's auc: 0.993412\n",
      "[200]\tvalid's auc: 0.995523\n",
      "[300]\tvalid's auc: 0.996122\n",
      "[400]\tvalid's auc: 0.996368\n",
      "[500]\tvalid's auc: 0.99651\n",
      "[600]\tvalid's auc: 0.996597\n",
      "[700]\tvalid's auc: 0.996616\n",
      "Early stopping, best iteration is:\n",
      "[680]\tvalid's auc: 0.996621\n",
      "Training until validation scores don't improve for 30 rounds.\n",
      "[100]\tvalid's auc: 0.993286\n",
      "[200]\tvalid's auc: 0.995528\n",
      "[300]\tvalid's auc: 0.996099\n",
      "[400]\tvalid's auc: 0.996313\n",
      "[500]\tvalid's auc: 0.996451\n",
      "[600]\tvalid's auc: 0.996513\n",
      "Early stopping, best iteration is:\n",
      "[621]\tvalid's auc: 0.99653\n",
      "Training until validation scores don't improve for 30 rounds.\n",
      "[100]\tvalid's auc: 0.993515\n",
      "[200]\tvalid's auc: 0.995729\n",
      "[300]\tvalid's auc: 0.996339\n",
      "[400]\tvalid's auc: 0.996509\n",
      "Early stopping, best iteration is:\n",
      "[445]\tvalid's auc: 0.996579\n",
      "Training until validation scores don't improve for 30 rounds.\n",
      "[100]\tvalid's auc: 0.992538\n",
      "[200]\tvalid's auc: 0.995098\n",
      "[300]\tvalid's auc: 0.995794\n",
      "[400]\tvalid's auc: 0.996103\n",
      "Early stopping, best iteration is:\n",
      "[448]\tvalid's auc: 0.996162\n",
      "Training until validation scores don't improve for 30 rounds.\n",
      "[100]\tvalid's auc: 0.993277\n",
      "[200]\tvalid's auc: 0.995651\n",
      "[300]\tvalid's auc: 0.996169\n",
      "[400]\tvalid's auc: 0.996344\n",
      "[500]\tvalid's auc: 0.996472\n",
      "[600]\tvalid's auc: 0.996578\n",
      "Early stopping, best iteration is:\n",
      "[662]\tvalid's auc: 0.996596\n",
      "Training until validation scores don't improve for 30 rounds.\n",
      "[100]\tvalid's auc: 0.992756\n",
      "[200]\tvalid's auc: 0.995485\n",
      "[300]\tvalid's auc: 0.99614\n",
      "[400]\tvalid's auc: 0.99638\n",
      "[500]\tvalid's auc: 0.996513\n",
      "Early stopping, best iteration is:\n",
      "[511]\tvalid's auc: 0.996523\n",
      "Training until validation scores don't improve for 30 rounds.\n",
      "[100]\tvalid's auc: 0.993442\n",
      "[200]\tvalid's auc: 0.995725\n",
      "[300]\tvalid's auc: 0.996193\n",
      "[400]\tvalid's auc: 0.996358\n",
      "[500]\tvalid's auc: 0.996461\n",
      "Early stopping, best iteration is:\n",
      "[471]\tvalid's auc: 0.996468\n",
      "Training until validation scores don't improve for 30 rounds.\n",
      "[100]\tvalid's auc: 0.993379\n",
      "[200]\tvalid's auc: 0.995534\n",
      "[300]\tvalid's auc: 0.996151\n",
      "[400]\tvalid's auc: 0.996415\n",
      "[500]\tvalid's auc: 0.99654\n",
      "Early stopping, best iteration is:\n",
      "[520]\tvalid's auc: 0.99655\n",
      "Training until validation scores don't improve for 30 rounds.\n",
      "[100]\tvalid's auc: 0.995395\n",
      "[200]\tvalid's auc: 0.996537\n",
      "[300]\tvalid's auc: 0.996995\n",
      "[400]\tvalid's auc: 0.997131\n",
      "[500]\tvalid's auc: 0.997192\n",
      "Early stopping, best iteration is:\n",
      "[513]\tvalid's auc: 0.997211\n",
      "Best score reached: 0.996492262306535 with params: {'scale_pos_weight': 6} \n"
     ]
    }
   ],
   "source": [
    "gs_sample_weight = GridSearchCV(estimator=clf_sw, param_grid={'scale_pos_weight':[1,2,6,12]},\n",
    "                                scoring='roc_auc', cv=5, refit=True, verbose=True)\n",
    "\n",
    "gs_sample_weight.fit(X_train, y_train, **fit_params)\n",
    "print('Best score reached: {} with params: {} '.format(gs_sample_weight.best_score_, gs_sample_weight.best_params_))"
   ]
  },
  {
   "cell_type": "code",
   "execution_count": null,
   "metadata": {
    "colab": {
     "base_uri": "https://localhost:8080/"
    },
    "id": "7L3eQpeJ7kSi",
    "outputId": "aa75bd98-44d3-4165-a60a-e7dd15959a67",
    "scrolled": true
   },
   "outputs": [
    {
     "name": "stdout",
     "output_type": "stream",
     "text": [
      "Training until validation scores don't improve for 30 rounds.\n",
      "[100]\tvalid's auc: 0.993655\n",
      "[200]\tvalid's auc: 0.995442\n",
      "[300]\tvalid's auc: 0.996006\n",
      "[400]\tvalid's auc: 0.996203\n",
      "[500]\tvalid's auc: 0.996291\n",
      "[600]\tvalid's auc: 0.996345\n",
      "[700]\tvalid's auc: 0.996378\n",
      "[800]\tvalid's auc: 0.996397\n",
      "[900]\tvalid's auc: 0.996407\n",
      "[1000]\tvalid's auc: 0.996415\n",
      "[1100]\tvalid's auc: 0.996423\n",
      "[1200]\tvalid's auc: 0.996431\n",
      "[1300]\tvalid's auc: 0.996436\n",
      "[1400]\tvalid's auc: 0.996444\n",
      "[1500]\tvalid's auc: 0.99645\n",
      "[1600]\tvalid's auc: 0.996458\n",
      "[1700]\tvalid's auc: 0.996466\n",
      "[1800]\tvalid's auc: 0.996473\n",
      "[1900]\tvalid's auc: 0.996478\n",
      "[2000]\tvalid's auc: 0.996484\n",
      "[2100]\tvalid's auc: 0.996493\n",
      "[2200]\tvalid's auc: 0.996499\n",
      "[2300]\tvalid's auc: 0.996505\n",
      "[2400]\tvalid's auc: 0.996511\n",
      "[2500]\tvalid's auc: 0.996516\n",
      "[2600]\tvalid's auc: 0.996521\n",
      "[2700]\tvalid's auc: 0.996528\n",
      "[2800]\tvalid's auc: 0.996536\n",
      "[2900]\tvalid's auc: 0.996542\n",
      "[3000]\tvalid's auc: 0.996548\n",
      "[3100]\tvalid's auc: 0.996554\n",
      "[3200]\tvalid's auc: 0.99656\n",
      "[3300]\tvalid's auc: 0.996566\n",
      "[3400]\tvalid's auc: 0.996572\n",
      "[3500]\tvalid's auc: 0.996579\n",
      "[3600]\tvalid's auc: 0.996585\n",
      "[3700]\tvalid's auc: 0.99659\n",
      "[3800]\tvalid's auc: 0.996597\n",
      "[3900]\tvalid's auc: 0.996602\n",
      "[4000]\tvalid's auc: 0.996608\n",
      "[4100]\tvalid's auc: 0.996615\n",
      "[4200]\tvalid's auc: 0.996621\n",
      "[4300]\tvalid's auc: 0.996626\n",
      "[4400]\tvalid's auc: 0.996631\n",
      "[4500]\tvalid's auc: 0.996637\n",
      "[4600]\tvalid's auc: 0.996645\n",
      "[4700]\tvalid's auc: 0.99665\n",
      "[4800]\tvalid's auc: 0.996654\n",
      "[4900]\tvalid's auc: 0.996659\n",
      "[5000]\tvalid's auc: 0.996667\n",
      "Did not meet early stopping. Best iteration is:\n",
      "[4999]\tvalid's auc: 0.996667\n"
     ]
    },
    {
     "data": {
      "text/plain": [
       "LGBMClassifier(colsample_bytree=0.9234, metric='None', min_child_samples=399,\n",
       "               min_child_weight=0.1, n_estimators=5000, n_jobs=4, num_leaves=13,\n",
       "               random_state=314, reg_alpha=2, reg_lambda=5, subsample=0.855)"
      ]
     },
     "execution_count": 32,
     "metadata": {},
     "output_type": "execute_result"
    }
   ],
   "source": [
    "def learning_rate_decay_power(current_iter):\n",
    "    base_learning_rate = 0.1\n",
    "    lr = base_learning_rate  * np.power(0.995, current_iter)\n",
    "    return lr if lr > 1e-3 else 1e-3\n",
    "\n",
    "# Configure locally from hardcoded values\n",
    "clf_final = lgb.LGBMClassifier(**clf.get_params())\n",
    "\n",
    "# Set optimal parameters\n",
    "clf_final.set_params(**opt_parameters)\n",
    "\n",
    "# Train the final model with learning rate decay\n",
    "clf_final.fit(X_train, y_train, **fit_params, callbacks=[lgb.reset_parameter(learning_rate = learning_rate_decay_power)])"
   ]
  },
  {
   "cell_type": "code",
   "execution_count": null,
   "metadata": {
    "colab": {
     "base_uri": "https://localhost:8080/"
    },
    "id": "XWZb9Pt-7kSi",
    "outputId": "bb289adc-e8d0-46ad-c090-6ca33a561619"
   },
   "outputs": [
    {
     "data": {
      "text/plain": [
       "LGBMClassifier(colsample_bytree=0.9234, metric='None', min_child_samples=399,\n",
       "               min_child_weight=0.1, n_estimators=5000, n_jobs=4, num_leaves=13,\n",
       "               random_state=314, reg_alpha=2, reg_lambda=5, subsample=0.855)"
      ]
     },
     "execution_count": 33,
     "metadata": {},
     "output_type": "execute_result"
    }
   ],
   "source": [
    "clf_final"
   ]
  },
  {
   "cell_type": "code",
   "execution_count": null,
   "metadata": {
    "colab": {
     "base_uri": "https://localhost:8080/"
    },
    "id": "aj3BFJkF7kSj",
    "outputId": "b7cfc3f7-aaea-46a4-da97-f643fefd804c",
    "scrolled": true
   },
   "outputs": [
    {
     "name": "stdout",
     "output_type": "stream",
     "text": [
      "ROC AUC after parameter tuning: 0.9966666013884338\n"
     ]
    }
   ],
   "source": [
    "y_pred = clf_final.predict_proba(X_valid)[:,1]\n",
    "print(\"ROC AUC after parameter tuning:\", metrics.roc_auc_score(y_valid, y_pred))"
   ]
  },
  {
   "cell_type": "markdown",
   "metadata": {
    "id": "SZah26KI7kSk"
   },
   "source": [
    "After comparing ROC AUC of before and after parameter tuning, we can conclude that our model is performing better without tuning and has the best parameters by default."
   ]
  },
  {
   "cell_type": "markdown",
   "metadata": {},
   "source": [
    "## RandomForest Classifier"
   ]
  },
  {
   "cell_type": "code",
   "execution_count": null,
   "metadata": {},
   "outputs": [
    {
     "data": {
      "text/plain": [
       "RandomForestClassifier()"
      ]
     },
     "execution_count": 10,
     "metadata": {},
     "output_type": "execute_result"
    }
   ],
   "source": [
    "from sklearn.ensemble import RandomForestClassifier\n",
    "\n",
    "clf = RandomForestClassifier() \n",
    "clf.fit(X_train, y_train)"
   ]
  },
  {
   "cell_type": "code",
   "execution_count": null,
   "metadata": {},
   "outputs": [
    {
     "data": {
      "text/plain": [
       "0.9763755051290022"
      ]
     },
     "execution_count": 12,
     "metadata": {},
     "output_type": "execute_result"
    }
   ],
   "source": [
    "y_pred = clf.predict(X_valid)\n",
    "y_pred = [round(value) for value in y_pred]\n",
    "\n",
    "accuracy_score(y_valid, y_pred)"
   ]
  },
  {
   "cell_type": "code",
   "execution_count": null,
   "metadata": {},
   "outputs": [
    {
     "name": "stdout",
     "output_type": "stream",
     "text": [
      "ROC AUC before parameter tuning: 0.9965290232177497\n"
     ]
    }
   ],
   "source": [
    "y_pred = clf.predict_proba(X_valid)[:,1]\n",
    "print(\"ROC AUC:\", metrics.roc_auc_score(y_valid, y_pred))"
   ]
  },
  {
   "cell_type": "markdown",
   "metadata": {},
   "source": [
    "## Extra Trees Classifier"
   ]
  },
  {
   "cell_type": "markdown",
   "metadata": {},
   "source": [
    "**Extremely Randomized Trees Classifier(Extra Trees Classifier)** is a type of ensemble learning technique which aggregates the results of multiple de-correlated decision trees collected in a “forest” to output it’s classification result. In concept, it is very similar to a Random Forest Classifier and only differs from it in the manner of construction of the decision trees in the forest."
   ]
  },
  {
   "cell_type": "code",
   "execution_count": null,
   "metadata": {},
   "outputs": [
    {
     "data": {
      "text/plain": [
       "ExtraTreesClassifier()"
      ]
     },
     "execution_count": 18,
     "metadata": {},
     "output_type": "execute_result"
    }
   ],
   "source": [
    "from sklearn.ensemble import ExtraTreesClassifier\n",
    "\n",
    "ex_clf = ExtraTreesClassifier()\n",
    "ex_clf.fit(X_train, y_train)"
   ]
  },
  {
   "cell_type": "code",
   "execution_count": null,
   "metadata": {},
   "outputs": [
    {
     "data": {
      "text/plain": [
       "0.9711946948502745"
      ]
     },
     "execution_count": 19,
     "metadata": {},
     "output_type": "execute_result"
    }
   ],
   "source": [
    "y_pred = ex_clf.predict(X_valid)\n",
    "y_pred = [round(value) for value in y_pred]\n",
    "\n",
    "accuracy_score(y_valid, y_pred)"
   ]
  },
  {
   "cell_type": "code",
   "execution_count": null,
   "metadata": {},
   "outputs": [
    {
     "name": "stdout",
     "output_type": "stream",
     "text": [
      "ROC AUC before parameter tuning: 0.9951576864432227\n"
     ]
    }
   ],
   "source": [
    "y_pred = ex_clf.predict_proba(X_valid)[:,1]\n",
    "print(\"ROC AUC:\", metrics.roc_auc_score(y_valid, y_pred))"
   ]
  },
  {
   "cell_type": "markdown",
   "metadata": {},
   "source": [
    "## Decision Tree Classifier"
   ]
  },
  {
   "cell_type": "code",
   "execution_count": null,
   "metadata": {},
   "outputs": [
    {
     "data": {
      "text/plain": [
       "DecisionTreeClassifier()"
      ]
     },
     "execution_count": 21,
     "metadata": {},
     "output_type": "execute_result"
    }
   ],
   "source": [
    "from sklearn.tree import DecisionTreeClassifier\n",
    "dc_clf = DecisionTreeClassifier()\n",
    "dc_clf.fit(X_train, y_train)"
   ]
  },
  {
   "cell_type": "code",
   "execution_count": null,
   "metadata": {},
   "outputs": [
    {
     "data": {
      "text/plain": [
       "0.9654958035436743"
      ]
     },
     "execution_count": 22,
     "metadata": {},
     "output_type": "execute_result"
    }
   ],
   "source": [
    "y_pred = dc_clf.predict(X_valid)\n",
    "y_pred = [round(value) for value in y_pred]\n",
    "\n",
    "accuracy_score(y_valid, y_pred)"
   ]
  },
  {
   "cell_type": "code",
   "execution_count": null,
   "metadata": {},
   "outputs": [
    {
     "name": "stdout",
     "output_type": "stream",
     "text": [
      "ROC AUC before parameter tuning: 0.9654771770118924\n"
     ]
    }
   ],
   "source": [
    "y_pred = dc_clf.predict_proba(X_valid)[:,1]\n",
    "print(\"ROC AUC:\", metrics.roc_auc_score(y_valid, y_pred))"
   ]
  },
  {
   "cell_type": "markdown",
   "metadata": {},
   "source": [
    "## Bagging Classifier"
   ]
  },
  {
   "cell_type": "markdown",
   "metadata": {},
   "source": [
    "A Bagging classifier is an ensemble meta-estimator that fits base classifiers each on random subsets of the original dataset and then aggregate their individual predictions (either by voting or by averaging) to form a final prediction. Such a meta-estimator can typically be used as a way to reduce the variance of a black-box estimator (e.g., a decision tree), by introducing randomization into its construction procedure and then making an ensemble out of it."
   ]
  },
  {
   "cell_type": "code",
   "execution_count": null,
   "metadata": {},
   "outputs": [
    {
     "data": {
      "text/plain": [
       "0.9751321106621076"
      ]
     },
     "execution_count": 33,
     "metadata": {},
     "output_type": "execute_result"
    }
   ],
   "source": [
    "from sklearn.ensemble import BaggingClassifier\n",
    "from sklearn import model_selection\n",
    "\n",
    "kfold = model_selection.KFold(n_splits = 3)\n",
    "\n",
    "# Initialize the base classifier\n",
    "base_cls = DecisionTreeClassifier()\n",
    "\n",
    "# no. of base classifier\n",
    "num_trees = 50\n",
    "# bagging classifier\n",
    "model = BaggingClassifier(base_estimator = base_cls,\n",
    "                          n_estimators = num_trees)\n",
    "\n",
    "results = model_selection.cross_val_score(model, X_valid, y_valid, cv = kfold)\n",
    "results.max()"
   ]
  },
  {
   "cell_type": "code",
   "execution_count": null,
   "metadata": {},
   "outputs": [
    {
     "data": {
      "text/plain": [
       "0.9724380893171691"
      ]
     },
     "execution_count": 38,
     "metadata": {},
     "output_type": "execute_result"
    }
   ],
   "source": [
    "results.mean()"
   ]
  },
  {
   "cell_type": "code",
   "execution_count": null,
   "metadata": {},
   "outputs": [
    {
     "data": {
      "text/plain": [
       "0.972956170345042"
      ]
     },
     "execution_count": 30,
     "metadata": {},
     "output_type": "execute_result"
    }
   ],
   "source": [
    "model.fit(X_train, y_train)\n",
    "y_pred = model.predict(X_valid)\n",
    "y_pred = [round(value) for value in y_pred]\n",
    "\n",
    "accuracy_score(y_valid, y_pred)"
   ]
  },
  {
   "cell_type": "code",
   "execution_count": null,
   "metadata": {},
   "outputs": [
    {
     "name": "stdout",
     "output_type": "stream",
     "text": [
      "ROC AUC before parameter tuning: 0.9948265711955331\n"
     ]
    }
   ],
   "source": [
    "y_pred = model.predict_proba(X_valid)[:,1]\n",
    "print(\"ROC AUC:\", metrics.roc_auc_score(y_valid, y_pred))"
   ]
  },
  {
   "cell_type": "markdown",
   "metadata": {},
   "source": [
    "## ExtraTree Classifier"
   ]
  },
  {
   "cell_type": "code",
   "execution_count": null,
   "metadata": {},
   "outputs": [
    {
     "data": {
      "text/plain": [
       "ExtraTreesClassifier(n_estimators=1)"
      ]
     },
     "execution_count": 50,
     "metadata": {},
     "output_type": "execute_result"
    }
   ],
   "source": [
    "ex_clf = ExtraTreesClassifier(n_estimators=1)\n",
    "ex_clf.fit(X_train, y_train)"
   ]
  },
  {
   "cell_type": "code",
   "execution_count": null,
   "metadata": {},
   "outputs": [
    {
     "data": {
      "text/plain": [
       "0.949124443062895"
      ]
     },
     "execution_count": 51,
     "metadata": {},
     "output_type": "execute_result"
    }
   ],
   "source": [
    "y_pred = ex_clf.predict(X_valid)\n",
    "y_pred = [round(value) for value in y_pred]\n",
    "\n",
    "accuracy_score(y_valid, y_pred)"
   ]
  },
  {
   "cell_type": "code",
   "execution_count": null,
   "metadata": {
    "scrolled": true
   },
   "outputs": [
    {
     "name": "stdout",
     "output_type": "stream",
     "text": [
      "ROC AUC: 0.9491035280136383\n"
     ]
    }
   ],
   "source": [
    "y_pred = ex_clf.predict_proba(X_valid)[:,1]\n",
    "print(\"ROC AUC:\", metrics.roc_auc_score(y_valid, y_pred))"
   ]
  },
  {
   "cell_type": "markdown",
   "metadata": {},
   "source": [
    "## KNeighbors Classifier"
   ]
  },
  {
   "cell_type": "code",
   "execution_count": null,
   "metadata": {},
   "outputs": [
    {
     "data": {
      "text/plain": [
       "KNeighborsClassifier()"
      ]
     },
     "execution_count": 39,
     "metadata": {},
     "output_type": "execute_result"
    }
   ],
   "source": [
    "from sklearn.neighbors import KNeighborsClassifier\n",
    "\n",
    "k_clf = KNeighborsClassifier()\n",
    "k_clf.fit(X_train, y_train)"
   ]
  },
  {
   "cell_type": "code",
   "execution_count": null,
   "metadata": {},
   "outputs": [
    {
     "data": {
      "text/plain": [
       "0.9486063620350222"
      ]
     },
     "execution_count": 40,
     "metadata": {},
     "output_type": "execute_result"
    }
   ],
   "source": [
    "y_pred = k_clf.predict(X_valid)\n",
    "y_pred = [round(value) for value in y_pred]\n",
    "\n",
    "accuracy_score(y_valid, y_pred)"
   ]
  },
  {
   "cell_type": "code",
   "execution_count": null,
   "metadata": {},
   "outputs": [
    {
     "name": "stdout",
     "output_type": "stream",
     "text": [
      "ROC AUC: 0.9805046557122921\n"
     ]
    }
   ],
   "source": [
    "y_pred = k_clf.predict_proba(X_valid)[:,1]\n",
    "print(\"ROC AUC:\", metrics.roc_auc_score(y_valid, y_pred))"
   ]
  },
  {
   "cell_type": "markdown",
   "metadata": {
    "id": "Xl_3-nao7kSk"
   },
   "source": [
    "### Conclusion\n",
    "\n",
    "After observing and comparing total of 8 different classifiers, we saw that LightGBMClassifier, XGBoost, and RandonForestClassifier are performing approximately similar but LightGBMClassifier is 3 times faster which will boost the performace of our overall system. So we will be using **LightGBMClassifier**."
   ]
  }
 ],
 "metadata": {
  "colab": {
   "provenance": []
  },
  "kernelspec": {
   "display_name": "Python 3",
   "language": "python",
   "name": "python3"
  },
  "language_info": {
   "codemirror_mode": {
    "name": "ipython",
    "version": 3
   },
   "file_extension": ".py",
   "mimetype": "text/x-python",
   "name": "python",
   "nbconvert_exporter": "python",
   "pygments_lexer": "ipython3",
   "version": "3.8.1"
  }
 },
 "nbformat": 4,
 "nbformat_minor": 1
}

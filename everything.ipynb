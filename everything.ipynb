{
 "cells": [
  {
   "cell_type": "code",
   "execution_count": 58,
   "metadata": {},
   "outputs": [],
   "source": [
    "import pandas as pd\n",
    "import numpy as np\n",
    "import matplotlib.pyplot as plt\n",
    "import seaborn as sns\n",
    "\n",
    "import warnings\n",
    "warnings.filterwarnings('ignore')"
   ]
  },
  {
   "cell_type": "code",
   "execution_count": 59,
   "metadata": {},
   "outputs": [
    {
     "data": {
      "text/html": [
       "<div><div id=d0a5991f-1c50-4357-9fa1-73537b61ad7a style=\"display:none; background-color:#9D6CFF; color:white; width:200px; height:30px; padding-left:5px; border-radius:4px; flex-direction:row; justify-content:space-around; align-items:center;\" onmouseover=\"this.style.backgroundColor='#BA9BF8'\" onmouseout=\"this.style.backgroundColor='#9D6CFF'\" onclick=\"window.commands?.execute('create-mitosheet-from-dataframe-output');\">See Full Dataframe in Mito</div> <script> if (window.commands.hasCommand('create-mitosheet-from-dataframe-output')) document.getElementById('d0a5991f-1c50-4357-9fa1-73537b61ad7a').style.display = 'flex' </script> <table border=\"1\" class=\"dataframe\">\n",
       "  <thead>\n",
       "    <tr style=\"text-align: right;\">\n",
       "      <th></th>\n",
       "      <th>Unnamed: 0</th>\n",
       "      <th>trans_date_trans_time</th>\n",
       "      <th>cc_num</th>\n",
       "      <th>merchant</th>\n",
       "      <th>category</th>\n",
       "      <th>amt</th>\n",
       "      <th>first</th>\n",
       "      <th>last</th>\n",
       "      <th>gender</th>\n",
       "      <th>street</th>\n",
       "      <th>...</th>\n",
       "      <th>lat</th>\n",
       "      <th>long</th>\n",
       "      <th>city_pop</th>\n",
       "      <th>job</th>\n",
       "      <th>dob</th>\n",
       "      <th>trans_num</th>\n",
       "      <th>unix_time</th>\n",
       "      <th>merch_lat</th>\n",
       "      <th>merch_long</th>\n",
       "      <th>is_fraud</th>\n",
       "    </tr>\n",
       "  </thead>\n",
       "  <tbody>\n",
       "    <tr>\n",
       "      <th>0</th>\n",
       "      <td>0</td>\n",
       "      <td>2019-01-01 00:00:18</td>\n",
       "      <td>2703186189652095</td>\n",
       "      <td>fraud_Rippin, Kub and Mann</td>\n",
       "      <td>misc_net</td>\n",
       "      <td>4.97</td>\n",
       "      <td>Jennifer</td>\n",
       "      <td>Banks</td>\n",
       "      <td>F</td>\n",
       "      <td>561 Perry Cove</td>\n",
       "      <td>...</td>\n",
       "      <td>36.08</td>\n",
       "      <td>-81.18</td>\n",
       "      <td>3495</td>\n",
       "      <td>Psychologist, counselling</td>\n",
       "      <td>1988-03-09</td>\n",
       "      <td>0b242abb623afc578575680df30655b9</td>\n",
       "      <td>1325376018</td>\n",
       "      <td>36.01</td>\n",
       "      <td>-82.05</td>\n",
       "      <td>0</td>\n",
       "    </tr>\n",
       "    <tr>\n",
       "      <th>1</th>\n",
       "      <td>1</td>\n",
       "      <td>2019-01-01 00:00:44</td>\n",
       "      <td>630423337322</td>\n",
       "      <td>fraud_Heller, Gutmann and Zieme</td>\n",
       "      <td>grocery_pos</td>\n",
       "      <td>107.23</td>\n",
       "      <td>Stephanie</td>\n",
       "      <td>Gill</td>\n",
       "      <td>F</td>\n",
       "      <td>43039 Riley Greens Suite 393</td>\n",
       "      <td>...</td>\n",
       "      <td>48.89</td>\n",
       "      <td>-118.21</td>\n",
       "      <td>149</td>\n",
       "      <td>Special educational needs teacher</td>\n",
       "      <td>1978-06-21</td>\n",
       "      <td>1f76529f8574734946361c461b024d99</td>\n",
       "      <td>1325376044</td>\n",
       "      <td>49.16</td>\n",
       "      <td>-118.19</td>\n",
       "      <td>0</td>\n",
       "    </tr>\n",
       "    <tr>\n",
       "      <th>2</th>\n",
       "      <td>2</td>\n",
       "      <td>2019-01-01 00:00:51</td>\n",
       "      <td>38859492057661</td>\n",
       "      <td>fraud_Lind-Buckridge</td>\n",
       "      <td>entertainment</td>\n",
       "      <td>220.11</td>\n",
       "      <td>Edward</td>\n",
       "      <td>Sanchez</td>\n",
       "      <td>M</td>\n",
       "      <td>594 White Dale Suite 530</td>\n",
       "      <td>...</td>\n",
       "      <td>42.18</td>\n",
       "      <td>-112.26</td>\n",
       "      <td>4154</td>\n",
       "      <td>Nature conservation officer</td>\n",
       "      <td>1962-01-19</td>\n",
       "      <td>a1a22d70485983eac12b5b88dad1cf95</td>\n",
       "      <td>1325376051</td>\n",
       "      <td>43.15</td>\n",
       "      <td>-112.15</td>\n",
       "      <td>0</td>\n",
       "    </tr>\n",
       "    <tr>\n",
       "      <th>3</th>\n",
       "      <td>3</td>\n",
       "      <td>2019-01-01 00:01:16</td>\n",
       "      <td>3534093764340240</td>\n",
       "      <td>fraud_Kutch, Hermiston and Farrell</td>\n",
       "      <td>gas_transport</td>\n",
       "      <td>45.00</td>\n",
       "      <td>Jeremy</td>\n",
       "      <td>White</td>\n",
       "      <td>M</td>\n",
       "      <td>9443 Cynthia Court Apt. 038</td>\n",
       "      <td>...</td>\n",
       "      <td>46.23</td>\n",
       "      <td>-112.11</td>\n",
       "      <td>1939</td>\n",
       "      <td>Patent attorney</td>\n",
       "      <td>1967-01-12</td>\n",
       "      <td>6b849c168bdad6f867558c3793159a81</td>\n",
       "      <td>1325376076</td>\n",
       "      <td>47.03</td>\n",
       "      <td>-112.56</td>\n",
       "      <td>0</td>\n",
       "    </tr>\n",
       "    <tr>\n",
       "      <th>4</th>\n",
       "      <td>4</td>\n",
       "      <td>2019-01-01 00:03:06</td>\n",
       "      <td>375534208663984</td>\n",
       "      <td>fraud_Keeling-Crist</td>\n",
       "      <td>misc_pos</td>\n",
       "      <td>41.96</td>\n",
       "      <td>Tyler</td>\n",
       "      <td>Garcia</td>\n",
       "      <td>M</td>\n",
       "      <td>408 Bradley Rest</td>\n",
       "      <td>...</td>\n",
       "      <td>38.42</td>\n",
       "      <td>-79.46</td>\n",
       "      <td>99</td>\n",
       "      <td>Dance movement psychotherapist</td>\n",
       "      <td>1986-03-28</td>\n",
       "      <td>a41d7549acf90789359a9aa5346dcb46</td>\n",
       "      <td>1325376186</td>\n",
       "      <td>38.67</td>\n",
       "      <td>-78.63</td>\n",
       "      <td>0</td>\n",
       "    </tr>\n",
       "  </tbody>\n",
       "</table></div>"
      ],
      "text/plain": [
       "   Unnamed: 0 trans_date_trans_time            cc_num  \\\n",
       "0           0   2019-01-01 00:00:18  2703186189652095   \n",
       "1           1   2019-01-01 00:00:44      630423337322   \n",
       "2           2   2019-01-01 00:00:51    38859492057661   \n",
       "3           3   2019-01-01 00:01:16  3534093764340240   \n",
       "4           4   2019-01-01 00:03:06   375534208663984   \n",
       "\n",
       "                             merchant       category    amt      first  \\\n",
       "0          fraud_Rippin, Kub and Mann       misc_net   4.97   Jennifer   \n",
       "1     fraud_Heller, Gutmann and Zieme    grocery_pos 107.23  Stephanie   \n",
       "2                fraud_Lind-Buckridge  entertainment 220.11     Edward   \n",
       "3  fraud_Kutch, Hermiston and Farrell  gas_transport  45.00     Jeremy   \n",
       "4                 fraud_Keeling-Crist       misc_pos  41.96      Tyler   \n",
       "\n",
       "      last gender                        street  ...   lat    long  city_pop  \\\n",
       "0    Banks      F                561 Perry Cove  ... 36.08  -81.18      3495   \n",
       "1     Gill      F  43039 Riley Greens Suite 393  ... 48.89 -118.21       149   \n",
       "2  Sanchez      M      594 White Dale Suite 530  ... 42.18 -112.26      4154   \n",
       "3    White      M   9443 Cynthia Court Apt. 038  ... 46.23 -112.11      1939   \n",
       "4   Garcia      M              408 Bradley Rest  ... 38.42  -79.46        99   \n",
       "\n",
       "                                 job         dob  \\\n",
       "0          Psychologist, counselling  1988-03-09   \n",
       "1  Special educational needs teacher  1978-06-21   \n",
       "2        Nature conservation officer  1962-01-19   \n",
       "3                    Patent attorney  1967-01-12   \n",
       "4     Dance movement psychotherapist  1986-03-28   \n",
       "\n",
       "                          trans_num   unix_time merch_lat merch_long  is_fraud  \n",
       "0  0b242abb623afc578575680df30655b9  1325376018     36.01     -82.05         0  \n",
       "1  1f76529f8574734946361c461b024d99  1325376044     49.16    -118.19         0  \n",
       "2  a1a22d70485983eac12b5b88dad1cf95  1325376051     43.15    -112.15         0  \n",
       "3  6b849c168bdad6f867558c3793159a81  1325376076     47.03    -112.56         0  \n",
       "4  a41d7549acf90789359a9aa5346dcb46  1325376186     38.67     -78.63         0  \n",
       "\n",
       "[5 rows x 23 columns]"
      ]
     },
     "execution_count": 59,
     "metadata": {},
     "output_type": "execute_result"
    }
   ],
   "source": [
    "df_train = pd.read_csv(\"fraudTrain.csv\")\n",
    "df_train.head()"
   ]
  },
  {
   "cell_type": "code",
   "execution_count": 60,
   "metadata": {},
   "outputs": [
    {
     "data": {
      "text/html": [
       "<div><div id=6112ce5d-cd4a-48e4-b893-e5e4fdab6859 style=\"display:none; background-color:#9D6CFF; color:white; width:200px; height:30px; padding-left:5px; border-radius:4px; flex-direction:row; justify-content:space-around; align-items:center;\" onmouseover=\"this.style.backgroundColor='#BA9BF8'\" onmouseout=\"this.style.backgroundColor='#9D6CFF'\" onclick=\"window.commands?.execute('create-mitosheet-from-dataframe-output');\">See Full Dataframe in Mito</div> <script> if (window.commands.hasCommand('create-mitosheet-from-dataframe-output')) document.getElementById('6112ce5d-cd4a-48e4-b893-e5e4fdab6859').style.display = 'flex' </script> <table border=\"1\" class=\"dataframe\">\n",
       "  <thead>\n",
       "    <tr style=\"text-align: right;\">\n",
       "      <th></th>\n",
       "      <th>Unnamed: 0</th>\n",
       "      <th>trans_date_trans_time</th>\n",
       "      <th>cc_num</th>\n",
       "      <th>merchant</th>\n",
       "      <th>category</th>\n",
       "      <th>amt</th>\n",
       "      <th>first</th>\n",
       "      <th>last</th>\n",
       "      <th>gender</th>\n",
       "      <th>street</th>\n",
       "      <th>...</th>\n",
       "      <th>lat</th>\n",
       "      <th>long</th>\n",
       "      <th>city_pop</th>\n",
       "      <th>job</th>\n",
       "      <th>dob</th>\n",
       "      <th>trans_num</th>\n",
       "      <th>unix_time</th>\n",
       "      <th>merch_lat</th>\n",
       "      <th>merch_long</th>\n",
       "      <th>is_fraud</th>\n",
       "    </tr>\n",
       "  </thead>\n",
       "  <tbody>\n",
       "    <tr>\n",
       "      <th>0</th>\n",
       "      <td>0</td>\n",
       "      <td>2020-06-21 12:14:25</td>\n",
       "      <td>2291163933867244</td>\n",
       "      <td>fraud_Kirlin and Sons</td>\n",
       "      <td>personal_care</td>\n",
       "      <td>2.86</td>\n",
       "      <td>Jeff</td>\n",
       "      <td>Elliott</td>\n",
       "      <td>M</td>\n",
       "      <td>351 Darlene Green</td>\n",
       "      <td>...</td>\n",
       "      <td>33.97</td>\n",
       "      <td>-80.94</td>\n",
       "      <td>333497</td>\n",
       "      <td>Mechanical engineer</td>\n",
       "      <td>1968-03-19</td>\n",
       "      <td>2da90c7d74bd46a0caf3777415b3ebd3</td>\n",
       "      <td>1371816865</td>\n",
       "      <td>33.99</td>\n",
       "      <td>-81.20</td>\n",
       "      <td>0</td>\n",
       "    </tr>\n",
       "    <tr>\n",
       "      <th>1</th>\n",
       "      <td>1</td>\n",
       "      <td>2020-06-21 12:14:33</td>\n",
       "      <td>3573030041201292</td>\n",
       "      <td>fraud_Sporer-Keebler</td>\n",
       "      <td>personal_care</td>\n",
       "      <td>29.84</td>\n",
       "      <td>Joanne</td>\n",
       "      <td>Williams</td>\n",
       "      <td>F</td>\n",
       "      <td>3638 Marsh Union</td>\n",
       "      <td>...</td>\n",
       "      <td>40.32</td>\n",
       "      <td>-110.44</td>\n",
       "      <td>302</td>\n",
       "      <td>Sales professional, IT</td>\n",
       "      <td>1990-01-17</td>\n",
       "      <td>324cc204407e99f51b0d6ca0055005e7</td>\n",
       "      <td>1371816873</td>\n",
       "      <td>39.45</td>\n",
       "      <td>-109.96</td>\n",
       "      <td>0</td>\n",
       "    </tr>\n",
       "    <tr>\n",
       "      <th>2</th>\n",
       "      <td>2</td>\n",
       "      <td>2020-06-21 12:14:53</td>\n",
       "      <td>3598215285024754</td>\n",
       "      <td>fraud_Swaniawski, Nitzsche and Welch</td>\n",
       "      <td>health_fitness</td>\n",
       "      <td>41.28</td>\n",
       "      <td>Ashley</td>\n",
       "      <td>Lopez</td>\n",
       "      <td>F</td>\n",
       "      <td>9333 Valentine Point</td>\n",
       "      <td>...</td>\n",
       "      <td>40.67</td>\n",
       "      <td>-73.54</td>\n",
       "      <td>34496</td>\n",
       "      <td>Librarian, public</td>\n",
       "      <td>1970-10-21</td>\n",
       "      <td>c81755dbbbea9d5c77f094348a7579be</td>\n",
       "      <td>1371816893</td>\n",
       "      <td>40.50</td>\n",
       "      <td>-74.20</td>\n",
       "      <td>0</td>\n",
       "    </tr>\n",
       "    <tr>\n",
       "      <th>3</th>\n",
       "      <td>3</td>\n",
       "      <td>2020-06-21 12:15:15</td>\n",
       "      <td>3591919803438423</td>\n",
       "      <td>fraud_Haley Group</td>\n",
       "      <td>misc_pos</td>\n",
       "      <td>60.05</td>\n",
       "      <td>Brian</td>\n",
       "      <td>Williams</td>\n",
       "      <td>M</td>\n",
       "      <td>32941 Krystal Mill Apt. 552</td>\n",
       "      <td>...</td>\n",
       "      <td>28.57</td>\n",
       "      <td>-80.82</td>\n",
       "      <td>54767</td>\n",
       "      <td>Set designer</td>\n",
       "      <td>1987-07-25</td>\n",
       "      <td>2159175b9efe66dc301f149d3d5abf8c</td>\n",
       "      <td>1371816915</td>\n",
       "      <td>28.81</td>\n",
       "      <td>-80.88</td>\n",
       "      <td>0</td>\n",
       "    </tr>\n",
       "    <tr>\n",
       "      <th>4</th>\n",
       "      <td>4</td>\n",
       "      <td>2020-06-21 12:15:17</td>\n",
       "      <td>3526826139003047</td>\n",
       "      <td>fraud_Johnston-Casper</td>\n",
       "      <td>travel</td>\n",
       "      <td>3.19</td>\n",
       "      <td>Nathan</td>\n",
       "      <td>Massey</td>\n",
       "      <td>M</td>\n",
       "      <td>5783 Evan Roads Apt. 465</td>\n",
       "      <td>...</td>\n",
       "      <td>44.25</td>\n",
       "      <td>-85.02</td>\n",
       "      <td>1126</td>\n",
       "      <td>Furniture designer</td>\n",
       "      <td>1955-07-06</td>\n",
       "      <td>57ff021bd3f328f8738bb535c302a31b</td>\n",
       "      <td>1371816917</td>\n",
       "      <td>44.96</td>\n",
       "      <td>-85.88</td>\n",
       "      <td>0</td>\n",
       "    </tr>\n",
       "  </tbody>\n",
       "</table></div>"
      ],
      "text/plain": [
       "   Unnamed: 0 trans_date_trans_time            cc_num  \\\n",
       "0           0   2020-06-21 12:14:25  2291163933867244   \n",
       "1           1   2020-06-21 12:14:33  3573030041201292   \n",
       "2           2   2020-06-21 12:14:53  3598215285024754   \n",
       "3           3   2020-06-21 12:15:15  3591919803438423   \n",
       "4           4   2020-06-21 12:15:17  3526826139003047   \n",
       "\n",
       "                               merchant        category   amt   first  \\\n",
       "0                 fraud_Kirlin and Sons   personal_care  2.86    Jeff   \n",
       "1                  fraud_Sporer-Keebler   personal_care 29.84  Joanne   \n",
       "2  fraud_Swaniawski, Nitzsche and Welch  health_fitness 41.28  Ashley   \n",
       "3                     fraud_Haley Group        misc_pos 60.05   Brian   \n",
       "4                 fraud_Johnston-Casper          travel  3.19  Nathan   \n",
       "\n",
       "       last gender                       street  ...   lat    long  city_pop  \\\n",
       "0   Elliott      M            351 Darlene Green  ... 33.97  -80.94    333497   \n",
       "1  Williams      F             3638 Marsh Union  ... 40.32 -110.44       302   \n",
       "2     Lopez      F         9333 Valentine Point  ... 40.67  -73.54     34496   \n",
       "3  Williams      M  32941 Krystal Mill Apt. 552  ... 28.57  -80.82     54767   \n",
       "4    Massey      M     5783 Evan Roads Apt. 465  ... 44.25  -85.02      1126   \n",
       "\n",
       "                      job         dob                         trans_num  \\\n",
       "0     Mechanical engineer  1968-03-19  2da90c7d74bd46a0caf3777415b3ebd3   \n",
       "1  Sales professional, IT  1990-01-17  324cc204407e99f51b0d6ca0055005e7   \n",
       "2       Librarian, public  1970-10-21  c81755dbbbea9d5c77f094348a7579be   \n",
       "3            Set designer  1987-07-25  2159175b9efe66dc301f149d3d5abf8c   \n",
       "4      Furniture designer  1955-07-06  57ff021bd3f328f8738bb535c302a31b   \n",
       "\n",
       "    unix_time merch_lat merch_long  is_fraud  \n",
       "0  1371816865     33.99     -81.20         0  \n",
       "1  1371816873     39.45    -109.96         0  \n",
       "2  1371816893     40.50     -74.20         0  \n",
       "3  1371816915     28.81     -80.88         0  \n",
       "4  1371816917     44.96     -85.88         0  \n",
       "\n",
       "[5 rows x 23 columns]"
      ]
     },
     "execution_count": 60,
     "metadata": {},
     "output_type": "execute_result"
    }
   ],
   "source": [
    "df_test = pd.read_csv(\"fraudTest.csv\")\n",
    "df_test.head()"
   ]
  },
  {
   "cell_type": "markdown",
   "metadata": {},
   "source": [
    "# Pre-Processing"
   ]
  },
  {
   "cell_type": "markdown",
   "metadata": {},
   "source": [
    "## Balancing data"
   ]
  },
  {
   "cell_type": "markdown",
   "metadata": {},
   "source": [
    "### Count of fraud & non-fraud transactions"
   ]
  },
  {
   "cell_type": "code",
   "execution_count": 61,
   "metadata": {},
   "outputs": [
    {
     "name": "stdout",
     "output_type": "stream",
     "text": [
      "No Frauds 99.42 % of the dataset\n",
      "Frauds 0.58 % of the dataset\n"
     ]
    }
   ],
   "source": [
    "print('No Frauds', round(df_train.is_fraud.value_counts()[0]/len(df_train) * 100,2), '% of the dataset')\n",
    "print('Frauds', round(df_train.is_fraud.value_counts()[1]/len(df_train) * 100,2), '% of the dataset')"
   ]
  },
  {
   "cell_type": "code",
   "execution_count": 62,
   "metadata": {},
   "outputs": [
    {
     "data": {
      "image/png": "[encoded data removed]",
      "text/plain": [
       "<Figure size 720x360 with 1 Axes>"
      ]
     },
     "metadata": {},
     "output_type": "display_data"
    }
   ],
   "source": [
    "colors = [\"#0101DF\", \"#DF0101\"]\n",
    "\n",
    "sns.countplot('is_fraud', data=df_train, palette=colors)\n",
    "plt.title('Class Distributions for train data\\n (0: No Fraud || 1: Fraud)', fontsize=14)\n",
    "plt.show()"
   ]
  },
  {
   "cell_type": "code",
   "execution_count": 63,
   "metadata": {},
   "outputs": [
    {
     "name": "stdout",
     "output_type": "stream",
     "text": [
      "No Frauds 99.61 % of the dataset\n",
      "Frauds 0.39 % of the dataset\n"
     ]
    }
   ],
   "source": [
    "print('No Frauds', round(df_test.is_fraud.value_counts()[0]/len(df_test) * 100,2), '% of the dataset')\n",
    "print('Frauds', round(df_test.is_fraud.value_counts()[1]/len(df_test) * 100,2), '% of the dataset')"
   ]
  },
  {
   "cell_type": "code",
   "execution_count": 64,
   "metadata": {},
   "outputs": [
    {
     "data": {
      "image/png": "[encoded data removed]",
      "text/plain": [
       "<Figure size 720x360 with 1 Axes>"
      ]
     },
     "metadata": {},
     "output_type": "display_data"
    }
   ],
   "source": [
    "sns.countplot('is_fraud', data=df_test)\n",
    "plt.title('Class Distributions for test data \\n (0: No Fraud || 1: Fraud)', fontsize=14)\n",
    "plt.show()"
   ]
  },
  {
   "cell_type": "markdown",
   "metadata": {},
   "source": [
    "From the above two outputs we can observe that fraud transactions are negligible in comparison to normal transactions, if we will use this kind of unbalances data, our model will be biased. We need to balance out the data."
   ]
  },
  {
   "cell_type": "code",
   "execution_count": 65,
   "metadata": {},
   "outputs": [
    {
     "data": {
      "image/png": "[encoded data removed]",
      "text/plain": [
       "<Figure size 720x360 with 1 Axes>"
      ]
     },
     "metadata": {},
     "output_type": "display_data"
    }
   ],
   "source": [
    "df_train = df_train.sample(frac=1)\n",
    "\n",
    "# amount of fraud classes 492 rows.\n",
    "fraud_df_train = df_train.loc[df_train['is_fraud'] == 1]\n",
    "non_fraud_df_train = df_train.loc[df_train['is_fraud'] == 0][:7506]\n",
    "\n",
    "normal_distributed_df_train = pd.concat([fraud_df_train, non_fraud_df_train])\n",
    "\n",
    "# Shuffle dataframe rows\n",
    "new_df_train = normal_distributed_df_train.sample(frac=1, random_state=42)\n",
    "\n",
    "sns.countplot('is_fraud', data=new_df_train, palette=colors)\n",
    "plt.title('Equally Distributed Classes', fontsize=14)\n",
    "plt.show()"
   ]
  },
  {
   "cell_type": "code",
   "execution_count": 66,
   "metadata": {},
   "outputs": [
    {
     "data": {
      "image/png": "[encoded data removed]",
      "text/plain": [
       "<Figure size 720x360 with 1 Axes>"
      ]
     },
     "metadata": {},
     "output_type": "display_data"
    }
   ],
   "source": [
    "df_test = df_test.sample(frac=1)\n",
    "\n",
    "# amount of fraud classes 492 rows.\n",
    "fraud_df_test = df_test.loc[df_test['is_fraud'] == 1]\n",
    "non_fraud_df_test = df_test.loc[df_test['is_fraud'] == 0][:2145]\n",
    "\n",
    "normal_distributed_df_test = pd.concat([fraud_df_test, non_fraud_df_test])\n",
    "\n",
    "# Shuffle dataframe rows\n",
    "new_df_test = normal_distributed_df_test.sample(frac=1, random_state=42)\n",
    "\n",
    "sns.countplot('is_fraud', data=new_df_test, palette=colors)\n",
    "plt.title('Equally Distributed Classes', fontsize=14)\n",
    "plt.show()"
   ]
  },
  {
   "cell_type": "code",
   "execution_count": 67,
   "metadata": {},
   "outputs": [
    {
     "name": "stdout",
     "output_type": "stream",
     "text": [
      "Shape of merged data: (19302, 23)\n"
     ]
    }
   ],
   "source": [
    "df = pd.concat([new_df_train, new_df_test])\n",
    "df_backup = df\n",
    "print(\"Shape of merged data:\", df.shape)"
   ]
  },
  {
   "cell_type": "code",
   "execution_count": 11,
   "metadata": {},
   "outputs": [
    {
     "data": {
      "text/html": [
       "<div><div id=b47be047-a247-4d5d-b037-bde59950381b style=\"display:none; background-color:#9D6CFF; color:white; width:200px; height:30px; padding-left:5px; border-radius:4px; flex-direction:row; justify-content:space-around; align-items:center;\" onmouseover=\"this.style.backgroundColor='#BA9BF8'\" onmouseout=\"this.style.backgroundColor='#9D6CFF'\" onclick=\"window.commands?.execute('create-mitosheet-from-dataframe-output');\">See Full Dataframe in Mito</div> <script> if (window.commands.hasCommand('create-mitosheet-from-dataframe-output')) document.getElementById('b47be047-a247-4d5d-b037-bde59950381b').style.display = 'flex' </script> <table border=\"1\" class=\"dataframe\">\n",
       "  <thead>\n",
       "    <tr style=\"text-align: right;\">\n",
       "      <th></th>\n",
       "      <th>Unnamed: 0</th>\n",
       "      <th>trans_date_trans_time</th>\n",
       "      <th>cc_num</th>\n",
       "      <th>merchant</th>\n",
       "      <th>category</th>\n",
       "      <th>amt</th>\n",
       "      <th>first</th>\n",
       "      <th>last</th>\n",
       "      <th>gender</th>\n",
       "      <th>street</th>\n",
       "      <th>...</th>\n",
       "      <th>lat</th>\n",
       "      <th>long</th>\n",
       "      <th>city_pop</th>\n",
       "      <th>job</th>\n",
       "      <th>dob</th>\n",
       "      <th>trans_num</th>\n",
       "      <th>unix_time</th>\n",
       "      <th>merch_lat</th>\n",
       "      <th>merch_long</th>\n",
       "      <th>is_fraud</th>\n",
       "    </tr>\n",
       "  </thead>\n",
       "  <tbody>\n",
       "    <tr>\n",
       "      <th>1009952</th>\n",
       "      <td>1009952</td>\n",
       "      <td>2020-02-19 23:46:02</td>\n",
       "      <td>3533177016567295</td>\n",
       "      <td>fraud_Dooley-Thompson</td>\n",
       "      <td>misc_net</td>\n",
       "      <td>852.75</td>\n",
       "      <td>Derek</td>\n",
       "      <td>Bentley</td>\n",
       "      <td>M</td>\n",
       "      <td>782 Lee Crossing Apt. 209</td>\n",
       "      <td>...</td>\n",
       "      <td>40.8731</td>\n",
       "      <td>-96.1528</td>\n",
       "      <td>1517</td>\n",
       "      <td>Dealer</td>\n",
       "      <td>1951-11-08</td>\n",
       "      <td>5772d41831f2f0d477349772a32bf627</td>\n",
       "      <td>1361317562</td>\n",
       "      <td>41.082580</td>\n",
       "      <td>-95.573292</td>\n",
       "      <td>1</td>\n",
       "    </tr>\n",
       "    <tr>\n",
       "      <th>246580</th>\n",
       "      <td>246580</td>\n",
       "      <td>2019-05-03 23:00:23</td>\n",
       "      <td>4358137750029944984</td>\n",
       "      <td>fraud_Lowe, Dietrich and Erdman</td>\n",
       "      <td>kids_pets</td>\n",
       "      <td>19.21</td>\n",
       "      <td>Dawn</td>\n",
       "      <td>Stephens</td>\n",
       "      <td>F</td>\n",
       "      <td>91542 Marissa Shores Apt. 053</td>\n",
       "      <td>...</td>\n",
       "      <td>42.7012</td>\n",
       "      <td>-92.0762</td>\n",
       "      <td>53</td>\n",
       "      <td>Sports administrator</td>\n",
       "      <td>1972-10-05</td>\n",
       "      <td>0850129a9e378fe808b71e8e795a2996</td>\n",
       "      <td>1336086023</td>\n",
       "      <td>41.920526</td>\n",
       "      <td>-91.150285</td>\n",
       "      <td>1</td>\n",
       "    </tr>\n",
       "    <tr>\n",
       "      <th>520702</th>\n",
       "      <td>520702</td>\n",
       "      <td>2019-08-12 15:09:03</td>\n",
       "      <td>3576431665303017</td>\n",
       "      <td>fraud_Streich Ltd</td>\n",
       "      <td>home</td>\n",
       "      <td>63.28</td>\n",
       "      <td>Jessica</td>\n",
       "      <td>Ward</td>\n",
       "      <td>F</td>\n",
       "      <td>72269 Elizabeth Field Apt. 132</td>\n",
       "      <td>...</td>\n",
       "      <td>33.5623</td>\n",
       "      <td>-112.0559</td>\n",
       "      <td>1312922</td>\n",
       "      <td>Contractor</td>\n",
       "      <td>1981-10-24</td>\n",
       "      <td>8be4a27e46de64a318f7360906276c4a</td>\n",
       "      <td>1344784143</td>\n",
       "      <td>32.839685</td>\n",
       "      <td>-112.445502</td>\n",
       "      <td>0</td>\n",
       "    </tr>\n",
       "  </tbody>\n",
       "</table></div>"
      ],
      "text/plain": [
       "         Unnamed: 0 trans_date_trans_time               cc_num  \\\n",
       "1009952     1009952   2020-02-19 23:46:02     3533177016567295   \n",
       "246580       246580   2019-05-03 23:00:23  4358137750029944984   \n",
       "520702       520702   2019-08-12 15:09:03     3576431665303017   \n",
       "\n",
       "                                merchant   category     amt    first  \\\n",
       "1009952            fraud_Dooley-Thompson   misc_net  852.75    Derek   \n",
       "246580   fraud_Lowe, Dietrich and Erdman  kids_pets   19.21     Dawn   \n",
       "520702                 fraud_Streich Ltd       home   63.28  Jessica   \n",
       "\n",
       "             last gender                          street  ...      lat  \\\n",
       "1009952   Bentley      M       782 Lee Crossing Apt. 209  ...  40.8731   \n",
       "246580   Stephens      F   91542 Marissa Shores Apt. 053  ...  42.7012   \n",
       "520702       Ward      F  72269 Elizabeth Field Apt. 132  ...  33.5623   \n",
       "\n",
       "             long  city_pop                   job         dob  \\\n",
       "1009952  -96.1528      1517                Dealer  1951-11-08   \n",
       "246580   -92.0762        53  Sports administrator  1972-10-05   \n",
       "520702  -112.0559   1312922            Contractor  1981-10-24   \n",
       "\n",
       "                                trans_num   unix_time  merch_lat  merch_long  \\\n",
       "1009952  5772d41831f2f0d477349772a32bf627  1361317562  41.082580  -95.573292   \n",
       "246580   0850129a9e378fe808b71e8e795a2996  1336086023  41.920526  -91.150285   \n",
       "520702   8be4a27e46de64a318f7360906276c4a  1344784143  32.839685 -112.445502   \n",
       "\n",
       "         is_fraud  \n",
       "1009952         1  \n",
       "246580          1  \n",
       "520702          0  \n",
       "\n",
       "[3 rows x 23 columns]"
      ]
     },
     "execution_count": 11,
     "metadata": {},
     "output_type": "execute_result"
    }
   ],
   "source": [
    "df.head(3)"
   ]
  },
  {
   "cell_type": "code",
   "execution_count": 12,
   "metadata": {},
   "outputs": [
    {
     "data": {
      "text/plain": [
       "Index(['Unnamed: 0', 'trans_date_trans_time', 'cc_num', 'merchant', 'category',\n",
       "       'amt', 'first', 'last', 'gender', 'street', 'city', 'state', 'zip',\n",
       "       'lat', 'long', 'city_pop', 'job', 'dob', 'trans_num', 'unix_time',\n",
       "       'merch_lat', 'merch_long', 'is_fraud'],\n",
       "      dtype='object')"
      ]
     },
     "execution_count": 12,
     "metadata": {},
     "output_type": "execute_result"
    }
   ],
   "source": [
    "df.columns"
   ]
  },
  {
   "cell_type": "code",
   "execution_count": 13,
   "metadata": {},
   "outputs": [
    {
     "data": {
      "text/html": [
       "<div><div id=62e36d65-7e72-46a6-b37a-3cf50cf5b325 style=\"display:none; background-color:#9D6CFF; color:white; width:200px; height:30px; padding-left:5px; border-radius:4px; flex-direction:row; justify-content:space-around; align-items:center;\" onmouseover=\"this.style.backgroundColor='#BA9BF8'\" onmouseout=\"this.style.backgroundColor='#9D6CFF'\" onclick=\"window.commands?.execute('create-mitosheet-from-dataframe-output');\">See Full Dataframe in Mito</div> <script> if (window.commands.hasCommand('create-mitosheet-from-dataframe-output')) document.getElementById('62e36d65-7e72-46a6-b37a-3cf50cf5b325').style.display = 'flex' </script> <table border=\"1\" class=\"dataframe\">\n",
       "  <thead>\n",
       "    <tr style=\"text-align: right;\">\n",
       "      <th></th>\n",
       "      <th>Unnamed: 0</th>\n",
       "      <th>cc_num</th>\n",
       "      <th>amt</th>\n",
       "      <th>zip</th>\n",
       "      <th>lat</th>\n",
       "      <th>long</th>\n",
       "      <th>city_pop</th>\n",
       "      <th>unix_time</th>\n",
       "      <th>merch_lat</th>\n",
       "      <th>merch_long</th>\n",
       "      <th>is_fraud</th>\n",
       "    </tr>\n",
       "  </thead>\n",
       "  <tbody>\n",
       "    <tr>\n",
       "      <th>count</th>\n",
       "      <td>1.930200e+04</td>\n",
       "      <td>1.930200e+04</td>\n",
       "      <td>19302.000000</td>\n",
       "      <td>19302.000000</td>\n",
       "      <td>19302.000000</td>\n",
       "      <td>19302.000000</td>\n",
       "      <td>1.930200e+04</td>\n",
       "      <td>1.930200e+04</td>\n",
       "      <td>19302.000000</td>\n",
       "      <td>19302.000000</td>\n",
       "      <td>19302.000000</td>\n",
       "    </tr>\n",
       "    <tr>\n",
       "      <th>mean</th>\n",
       "      <td>5.549063e+05</td>\n",
       "      <td>4.093948e+17</td>\n",
       "      <td>298.993464</td>\n",
       "      <td>48434.835147</td>\n",
       "      <td>38.624662</td>\n",
       "      <td>-90.126985</td>\n",
       "      <td>8.678916e+04</td>\n",
       "      <td>1.355846e+09</td>\n",
       "      <td>38.622737</td>\n",
       "      <td>-90.125931</td>\n",
       "      <td>0.500000</td>\n",
       "    </tr>\n",
       "    <tr>\n",
       "      <th>std</th>\n",
       "      <td>3.840632e+05</td>\n",
       "      <td>1.296126e+18</td>\n",
       "      <td>376.962122</td>\n",
       "      <td>27002.818032</td>\n",
       "      <td>5.137002</td>\n",
       "      <td>14.029160</td>\n",
       "      <td>2.968941e+05</td>\n",
       "      <td>1.764770e+07</td>\n",
       "      <td>5.171767</td>\n",
       "      <td>14.040607</td>\n",
       "      <td>0.500013</td>\n",
       "    </tr>\n",
       "    <tr>\n",
       "      <th>min</th>\n",
       "      <td>2.820000e+02</td>\n",
       "      <td>6.041621e+10</td>\n",
       "      <td>1.000000</td>\n",
       "      <td>1257.000000</td>\n",
       "      <td>20.027100</td>\n",
       "      <td>-165.672300</td>\n",
       "      <td>2.300000e+01</td>\n",
       "      <td>1.325389e+09</td>\n",
       "      <td>19.161782</td>\n",
       "      <td>-166.574331</td>\n",
       "      <td>0.000000</td>\n",
       "    </tr>\n",
       "    <tr>\n",
       "      <th>25%</th>\n",
       "      <td>2.208602e+05</td>\n",
       "      <td>1.800312e+14</td>\n",
       "      <td>20.330000</td>\n",
       "      <td>25213.000000</td>\n",
       "      <td>34.778900</td>\n",
       "      <td>-96.727000</td>\n",
       "      <td>7.590000e+02</td>\n",
       "      <td>1.340946e+09</td>\n",
       "      <td>34.853299</td>\n",
       "      <td>-96.707184</td>\n",
       "      <td>0.000000</td>\n",
       "    </tr>\n",
       "    <tr>\n",
       "      <th>50%</th>\n",
       "      <td>4.815085e+05</td>\n",
       "      <td>3.520550e+15</td>\n",
       "      <td>88.965000</td>\n",
       "      <td>47840.000000</td>\n",
       "      <td>39.390000</td>\n",
       "      <td>-87.420800</td>\n",
       "      <td>2.523000e+03</td>\n",
       "      <td>1.355364e+09</td>\n",
       "      <td>39.430590</td>\n",
       "      <td>-87.366606</td>\n",
       "      <td>0.500000</td>\n",
       "    </tr>\n",
       "    <tr>\n",
       "      <th>75%</th>\n",
       "      <td>8.931615e+05</td>\n",
       "      <td>4.634483e+15</td>\n",
       "      <td>473.762500</td>\n",
       "      <td>71232.000000</td>\n",
       "      <td>42.071600</td>\n",
       "      <td>-80.065200</td>\n",
       "      <td>1.905400e+04</td>\n",
       "      <td>1.370479e+09</td>\n",
       "      <td>42.015994</td>\n",
       "      <td>-80.115929</td>\n",
       "      <td>1.000000</td>\n",
       "    </tr>\n",
       "    <tr>\n",
       "      <th>max</th>\n",
       "      <td>1.296660e+06</td>\n",
       "      <td>4.992346e+18</td>\n",
       "      <td>7886.260000</td>\n",
       "      <td>99921.000000</td>\n",
       "      <td>66.693300</td>\n",
       "      <td>-67.950300</td>\n",
       "      <td>2.906700e+06</td>\n",
       "      <td>1.388534e+09</td>\n",
       "      <td>67.510267</td>\n",
       "      <td>-66.960745</td>\n",
       "      <td>1.000000</td>\n",
       "    </tr>\n",
       "  </tbody>\n",
       "</table></div>"
      ],
      "text/plain": [
       "         Unnamed: 0        cc_num           amt           zip           lat  \\\n",
       "count  1.930200e+04  1.930200e+04  19302.000000  19302.000000  19302.000000   \n",
       "mean   5.549063e+05  4.093948e+17    298.993464  48434.835147     38.624662   \n",
       "std    3.840632e+05  1.296126e+18    376.962122  27002.818032      5.137002   \n",
       "min    2.820000e+02  6.041621e+10      1.000000   1257.000000     20.027100   \n",
       "25%    2.208602e+05  1.800312e+14     20.330000  25213.000000     34.778900   \n",
       "50%    4.815085e+05  3.520550e+15     88.965000  47840.000000     39.390000   \n",
       "75%    8.931615e+05  4.634483e+15    473.762500  71232.000000     42.071600   \n",
       "max    1.296660e+06  4.992346e+18   7886.260000  99921.000000     66.693300   \n",
       "\n",
       "               long      city_pop     unix_time     merch_lat    merch_long  \\\n",
       "count  19302.000000  1.930200e+04  1.930200e+04  19302.000000  19302.000000   \n",
       "mean     -90.126985  8.678916e+04  1.355846e+09     38.622737    -90.125931   \n",
       "std       14.029160  2.968941e+05  1.764770e+07      5.171767     14.040607   \n",
       "min     -165.672300  2.300000e+01  1.325389e+09     19.161782   -166.574331   \n",
       "25%      -96.727000  7.590000e+02  1.340946e+09     34.853299    -96.707184   \n",
       "50%      -87.420800  2.523000e+03  1.355364e+09     39.430590    -87.366606   \n",
       "75%      -80.065200  1.905400e+04  1.370479e+09     42.015994    -80.115929   \n",
       "max      -67.950300  2.906700e+06  1.388534e+09     67.510267    -66.960745   \n",
       "\n",
       "           is_fraud  \n",
       "count  19302.000000  \n",
       "mean       0.500000  \n",
       "std        0.500013  \n",
       "min        0.000000  \n",
       "25%        0.000000  \n",
       "50%        0.500000  \n",
       "75%        1.000000  \n",
       "max        1.000000  "
      ]
     },
     "execution_count": 13,
     "metadata": {},
     "output_type": "execute_result"
    }
   ],
   "source": [
    "df.describe()"
   ]
  },
  {
   "cell_type": "code",
   "execution_count": 14,
   "metadata": {},
   "outputs": [
    {
     "data": {
      "text/plain": [
       "Unnamed: 0               0\n",
       "trans_date_trans_time    0\n",
       "cc_num                   0\n",
       "merchant                 0\n",
       "category                 0\n",
       "amt                      0\n",
       "first                    0\n",
       "last                     0\n",
       "gender                   0\n",
       "street                   0\n",
       "city                     0\n",
       "state                    0\n",
       "zip                      0\n",
       "lat                      0\n",
       "long                     0\n",
       "city_pop                 0\n",
       "job                      0\n",
       "dob                      0\n",
       "trans_num                0\n",
       "unix_time                0\n",
       "merch_lat                0\n",
       "merch_long               0\n",
       "is_fraud                 0\n",
       "dtype: int64"
      ]
     },
     "execution_count": 14,
     "metadata": {},
     "output_type": "execute_result"
    }
   ],
   "source": [
    "df.isna().sum()"
   ]
  },
  {
   "cell_type": "markdown",
   "metadata": {},
   "source": [
    "We don't have any NaN values"
   ]
  },
  {
   "cell_type": "code",
   "execution_count": 15,
   "metadata": {},
   "outputs": [
    {
     "data": {
      "text/html": [
       "<div><div id=19ec7290-3e8f-4e73-9313-5ba899e7687a style=\"display:none; background-color:#9D6CFF; color:white; width:200px; height:30px; padding-left:5px; border-radius:4px; flex-direction:row; justify-content:space-around; align-items:center;\" onmouseover=\"this.style.backgroundColor='#BA9BF8'\" onmouseout=\"this.style.backgroundColor='#9D6CFF'\" onclick=\"window.commands?.execute('create-mitosheet-from-dataframe-output');\">See Full Dataframe in Mito</div> <script> if (window.commands.hasCommand('create-mitosheet-from-dataframe-output')) document.getElementById('19ec7290-3e8f-4e73-9313-5ba899e7687a').style.display = 'flex' </script> <table border=\"1\" class=\"dataframe\">\n",
       "  <thead>\n",
       "    <tr style=\"text-align: right;\">\n",
       "      <th></th>\n",
       "      <th>trans_date_trans_time</th>\n",
       "      <th>merchant</th>\n",
       "      <th>category</th>\n",
       "      <th>first</th>\n",
       "      <th>last</th>\n",
       "      <th>gender</th>\n",
       "      <th>street</th>\n",
       "      <th>city</th>\n",
       "      <th>state</th>\n",
       "      <th>job</th>\n",
       "      <th>dob</th>\n",
       "      <th>trans_num</th>\n",
       "    </tr>\n",
       "  </thead>\n",
       "  <tbody>\n",
       "    <tr>\n",
       "      <th>1009952</th>\n",
       "      <td>2020-02-19 23:46:02</td>\n",
       "      <td>fraud_Dooley-Thompson</td>\n",
       "      <td>misc_net</td>\n",
       "      <td>Derek</td>\n",
       "      <td>Bentley</td>\n",
       "      <td>M</td>\n",
       "      <td>782 Lee Crossing Apt. 209</td>\n",
       "      <td>Weeping Water</td>\n",
       "      <td>NE</td>\n",
       "      <td>Dealer</td>\n",
       "      <td>1951-11-08</td>\n",
       "      <td>5772d41831f2f0d477349772a32bf627</td>\n",
       "    </tr>\n",
       "    <tr>\n",
       "      <th>246580</th>\n",
       "      <td>2019-05-03 23:00:23</td>\n",
       "      <td>fraud_Lowe, Dietrich and Erdman</td>\n",
       "      <td>kids_pets</td>\n",
       "      <td>Dawn</td>\n",
       "      <td>Stephens</td>\n",
       "      <td>F</td>\n",
       "      <td>91542 Marissa Shores Apt. 053</td>\n",
       "      <td>Oran</td>\n",
       "      <td>IA</td>\n",
       "      <td>Sports administrator</td>\n",
       "      <td>1972-10-05</td>\n",
       "      <td>0850129a9e378fe808b71e8e795a2996</td>\n",
       "    </tr>\n",
       "    <tr>\n",
       "      <th>520702</th>\n",
       "      <td>2019-08-12 15:09:03</td>\n",
       "      <td>fraud_Streich Ltd</td>\n",
       "      <td>home</td>\n",
       "      <td>Jessica</td>\n",
       "      <td>Ward</td>\n",
       "      <td>F</td>\n",
       "      <td>72269 Elizabeth Field Apt. 132</td>\n",
       "      <td>Phoenix</td>\n",
       "      <td>AZ</td>\n",
       "      <td>Contractor</td>\n",
       "      <td>1981-10-24</td>\n",
       "      <td>8be4a27e46de64a318f7360906276c4a</td>\n",
       "    </tr>\n",
       "    <tr>\n",
       "      <th>194161</th>\n",
       "      <td>2019-04-10 06:20:48</td>\n",
       "      <td>fraud_Lockman, West and Runte</td>\n",
       "      <td>grocery_pos</td>\n",
       "      <td>Michelle</td>\n",
       "      <td>Johnston</td>\n",
       "      <td>F</td>\n",
       "      <td>3531 Hamilton Highway</td>\n",
       "      <td>Roma</td>\n",
       "      <td>TX</td>\n",
       "      <td>IT trainer</td>\n",
       "      <td>1990-11-07</td>\n",
       "      <td>6ff3ef39b29b1f648a87882b9d16d299</td>\n",
       "    </tr>\n",
       "    <tr>\n",
       "      <th>1205107</th>\n",
       "      <td>2020-05-18 19:59:21</td>\n",
       "      <td>fraud_Hamill-Daugherty</td>\n",
       "      <td>misc_net</td>\n",
       "      <td>Rebecca</td>\n",
       "      <td>Butler</td>\n",
       "      <td>F</td>\n",
       "      <td>0665 Lisa Alley</td>\n",
       "      <td>Winger</td>\n",
       "      <td>MN</td>\n",
       "      <td>Applications developer</td>\n",
       "      <td>1966-06-07</td>\n",
       "      <td>518bfda4237c61c64e6de0d603016031</td>\n",
       "    </tr>\n",
       "    <tr>\n",
       "      <th>...</th>\n",
       "      <td>...</td>\n",
       "      <td>...</td>\n",
       "      <td>...</td>\n",
       "      <td>...</td>\n",
       "      <td>...</td>\n",
       "      <td>...</td>\n",
       "      <td>...</td>\n",
       "      <td>...</td>\n",
       "      <td>...</td>\n",
       "      <td>...</td>\n",
       "      <td>...</td>\n",
       "      <td>...</td>\n",
       "    </tr>\n",
       "    <tr>\n",
       "      <th>75548</th>\n",
       "      <td>2020-07-17 17:53:25</td>\n",
       "      <td>fraud_Prosacco, Kreiger and Kovacek</td>\n",
       "      <td>home</td>\n",
       "      <td>Brooke</td>\n",
       "      <td>Rodriguez</td>\n",
       "      <td>F</td>\n",
       "      <td>901 Todd Gardens Apt. 466</td>\n",
       "      <td>Mountain Center</td>\n",
       "      <td>CA</td>\n",
       "      <td>Therapist, music</td>\n",
       "      <td>1988-09-19</td>\n",
       "      <td>6538cccc09ec3feb31157308e18337db</td>\n",
       "    </tr>\n",
       "    <tr>\n",
       "      <th>151221</th>\n",
       "      <td>2020-08-12 22:24:12</td>\n",
       "      <td>fraud_Bauch-Raynor</td>\n",
       "      <td>grocery_pos</td>\n",
       "      <td>Linda</td>\n",
       "      <td>Hurst</td>\n",
       "      <td>F</td>\n",
       "      <td>31701 Tucker Square Suite 893</td>\n",
       "      <td>Wilton</td>\n",
       "      <td>ND</td>\n",
       "      <td>Designer, ceramics/pottery</td>\n",
       "      <td>1948-06-30</td>\n",
       "      <td>69091e3ce814474c832667cafd334817</td>\n",
       "    </tr>\n",
       "    <tr>\n",
       "      <th>409185</th>\n",
       "      <td>2020-11-29 20:35:28</td>\n",
       "      <td>fraud_Kub PLC</td>\n",
       "      <td>personal_care</td>\n",
       "      <td>Catherine</td>\n",
       "      <td>Weber</td>\n",
       "      <td>F</td>\n",
       "      <td>74890 Rodriguez Springs Apt. 540</td>\n",
       "      <td>West Henrietta</td>\n",
       "      <td>NY</td>\n",
       "      <td>Teacher, primary school</td>\n",
       "      <td>1968-06-24</td>\n",
       "      <td>1930c7577706c896564780c1c07dff0c</td>\n",
       "    </tr>\n",
       "    <tr>\n",
       "      <th>504392</th>\n",
       "      <td>2020-12-20 20:57:41</td>\n",
       "      <td>fraud_Heaney-Marquardt</td>\n",
       "      <td>entertainment</td>\n",
       "      <td>Joseph</td>\n",
       "      <td>Murray</td>\n",
       "      <td>M</td>\n",
       "      <td>42933 Ryan Underpass</td>\n",
       "      <td>Manderson</td>\n",
       "      <td>SD</td>\n",
       "      <td>Volunteer coordinator</td>\n",
       "      <td>1980-08-18</td>\n",
       "      <td>93d572600f8a872f792573d1dcf90b24</td>\n",
       "    </tr>\n",
       "    <tr>\n",
       "      <th>282237</th>\n",
       "      <td>2020-10-04 22:25:37</td>\n",
       "      <td>fraud_Padberg-Welch</td>\n",
       "      <td>grocery_pos</td>\n",
       "      <td>Jeffery</td>\n",
       "      <td>Brown</td>\n",
       "      <td>M</td>\n",
       "      <td>296 Maria Street</td>\n",
       "      <td>West Eaton</td>\n",
       "      <td>NY</td>\n",
       "      <td>Science writer</td>\n",
       "      <td>1963-12-28</td>\n",
       "      <td>6b485a9838d4c45cca68aa3d050a2aa1</td>\n",
       "    </tr>\n",
       "  </tbody>\n",
       "</table></div>"
      ],
      "text/plain": [
       "        trans_date_trans_time                             merchant  \\\n",
       "1009952   2020-02-19 23:46:02                fraud_Dooley-Thompson   \n",
       "246580    2019-05-03 23:00:23      fraud_Lowe, Dietrich and Erdman   \n",
       "520702    2019-08-12 15:09:03                    fraud_Streich Ltd   \n",
       "194161    2019-04-10 06:20:48        fraud_Lockman, West and Runte   \n",
       "1205107   2020-05-18 19:59:21               fraud_Hamill-Daugherty   \n",
       "...                       ...                                  ...   \n",
       "75548     2020-07-17 17:53:25  fraud_Prosacco, Kreiger and Kovacek   \n",
       "151221    2020-08-12 22:24:12                   fraud_Bauch-Raynor   \n",
       "409185    2020-11-29 20:35:28                        fraud_Kub PLC   \n",
       "504392    2020-12-20 20:57:41               fraud_Heaney-Marquardt   \n",
       "282237    2020-10-04 22:25:37                  fraud_Padberg-Welch   \n",
       "\n",
       "              category      first       last gender  \\\n",
       "1009952       misc_net      Derek    Bentley      M   \n",
       "246580       kids_pets       Dawn   Stephens      F   \n",
       "520702            home    Jessica       Ward      F   \n",
       "194161     grocery_pos   Michelle   Johnston      F   \n",
       "1205107       misc_net    Rebecca     Butler      F   \n",
       "...                ...        ...        ...    ...   \n",
       "75548             home     Brooke  Rodriguez      F   \n",
       "151221     grocery_pos      Linda      Hurst      F   \n",
       "409185   personal_care  Catherine      Weber      F   \n",
       "504392   entertainment     Joseph     Murray      M   \n",
       "282237     grocery_pos    Jeffery      Brown      M   \n",
       "\n",
       "                                   street             city state  \\\n",
       "1009952         782 Lee Crossing Apt. 209    Weeping Water    NE   \n",
       "246580      91542 Marissa Shores Apt. 053             Oran    IA   \n",
       "520702     72269 Elizabeth Field Apt. 132          Phoenix    AZ   \n",
       "194161              3531 Hamilton Highway             Roma    TX   \n",
       "1205107                   0665 Lisa Alley           Winger    MN   \n",
       "...                                   ...              ...   ...   \n",
       "75548           901 Todd Gardens Apt. 466  Mountain Center    CA   \n",
       "151221      31701 Tucker Square Suite 893           Wilton    ND   \n",
       "409185   74890 Rodriguez Springs Apt. 540   West Henrietta    NY   \n",
       "504392               42933 Ryan Underpass        Manderson    SD   \n",
       "282237                   296 Maria Street       West Eaton    NY   \n",
       "\n",
       "                                job         dob  \\\n",
       "1009952                      Dealer  1951-11-08   \n",
       "246580         Sports administrator  1972-10-05   \n",
       "520702                   Contractor  1981-10-24   \n",
       "194161                   IT trainer  1990-11-07   \n",
       "1205107      Applications developer  1966-06-07   \n",
       "...                             ...         ...   \n",
       "75548              Therapist, music  1988-09-19   \n",
       "151221   Designer, ceramics/pottery  1948-06-30   \n",
       "409185      Teacher, primary school  1968-06-24   \n",
       "504392        Volunteer coordinator  1980-08-18   \n",
       "282237               Science writer  1963-12-28   \n",
       "\n",
       "                                trans_num  \n",
       "1009952  5772d41831f2f0d477349772a32bf627  \n",
       "246580   0850129a9e378fe808b71e8e795a2996  \n",
       "520702   8be4a27e46de64a318f7360906276c4a  \n",
       "194161   6ff3ef39b29b1f648a87882b9d16d299  \n",
       "1205107  518bfda4237c61c64e6de0d603016031  \n",
       "...                                   ...  \n",
       "75548    6538cccc09ec3feb31157308e18337db  \n",
       "151221   69091e3ce814474c832667cafd334817  \n",
       "409185   1930c7577706c896564780c1c07dff0c  \n",
       "504392   93d572600f8a872f792573d1dcf90b24  \n",
       "282237   6b485a9838d4c45cca68aa3d050a2aa1  \n",
       "\n",
       "[19302 rows x 12 columns]"
      ]
     },
     "execution_count": 15,
     "metadata": {},
     "output_type": "execute_result"
    }
   ],
   "source": [
    "df.select_dtypes(exclude=[\"number\"])"
   ]
  },
  {
   "cell_type": "markdown",
   "metadata": {},
   "source": [
    "### Label Encoding"
   ]
  },
  {
   "cell_type": "code",
   "execution_count": 16,
   "metadata": {},
   "outputs": [],
   "source": [
    "# Import label encoder\n",
    "from sklearn import preprocessing\n",
    "  \n",
    "# label_encoder object knows how to understand word labels.\n",
    "label_encoder = preprocessing.LabelEncoder()\n",
    "\n",
    "# List of columns for label encoding\n",
    "colmns = ['category', 'gender', 'city', 'state', 'job']\n",
    "\n",
    "for column in colmns:\n",
    "    # Encode labels in column\n",
    "    df[column]= label_encoder.fit_transform(df[column])"
   ]
  },
  {
   "cell_type": "code",
   "execution_count": 17,
   "metadata": {
    "scrolled": true
   },
   "outputs": [
    {
     "data": {
      "text/html": [
       "<div><div id=7aa1967c-81ab-4880-8b24-85bff33c3071 style=\"display:none; background-color:#9D6CFF; color:white; width:200px; height:30px; padding-left:5px; border-radius:4px; flex-direction:row; justify-content:space-around; align-items:center;\" onmouseover=\"this.style.backgroundColor='#BA9BF8'\" onmouseout=\"this.style.backgroundColor='#9D6CFF'\" onclick=\"window.commands?.execute('create-mitosheet-from-dataframe-output');\">See Full Dataframe in Mito</div> <script> if (window.commands.hasCommand('create-mitosheet-from-dataframe-output')) document.getElementById('7aa1967c-81ab-4880-8b24-85bff33c3071').style.display = 'flex' </script> <table border=\"1\" class=\"dataframe\">\n",
       "  <thead>\n",
       "    <tr style=\"text-align: right;\">\n",
       "      <th></th>\n",
       "      <th>Unnamed: 0</th>\n",
       "      <th>trans_date_trans_time</th>\n",
       "      <th>cc_num</th>\n",
       "      <th>merchant</th>\n",
       "      <th>category</th>\n",
       "      <th>amt</th>\n",
       "      <th>first</th>\n",
       "      <th>last</th>\n",
       "      <th>gender</th>\n",
       "      <th>street</th>\n",
       "      <th>...</th>\n",
       "      <th>lat</th>\n",
       "      <th>long</th>\n",
       "      <th>city_pop</th>\n",
       "      <th>job</th>\n",
       "      <th>dob</th>\n",
       "      <th>trans_num</th>\n",
       "      <th>unix_time</th>\n",
       "      <th>merch_lat</th>\n",
       "      <th>merch_long</th>\n",
       "      <th>is_fraud</th>\n",
       "    </tr>\n",
       "  </thead>\n",
       "  <tbody>\n",
       "    <tr>\n",
       "      <th>1009952</th>\n",
       "      <td>1009952</td>\n",
       "      <td>2020-02-19 23:46:02</td>\n",
       "      <td>3533177016567295</td>\n",
       "      <td>fraud_Dooley-Thompson</td>\n",
       "      <td>8</td>\n",
       "      <td>852.75</td>\n",
       "      <td>Derek</td>\n",
       "      <td>Bentley</td>\n",
       "      <td>1</td>\n",
       "      <td>782 Lee Crossing Apt. 209</td>\n",
       "      <td>...</td>\n",
       "      <td>40.8731</td>\n",
       "      <td>-96.1528</td>\n",
       "      <td>1517</td>\n",
       "      <td>120</td>\n",
       "      <td>1951-11-08</td>\n",
       "      <td>5772d41831f2f0d477349772a32bf627</td>\n",
       "      <td>1361317562</td>\n",
       "      <td>41.082580</td>\n",
       "      <td>-95.573292</td>\n",
       "      <td>1</td>\n",
       "    </tr>\n",
       "    <tr>\n",
       "      <th>246580</th>\n",
       "      <td>246580</td>\n",
       "      <td>2019-05-03 23:00:23</td>\n",
       "      <td>4358137750029944984</td>\n",
       "      <td>fraud_Lowe, Dietrich and Erdman</td>\n",
       "      <td>7</td>\n",
       "      <td>19.21</td>\n",
       "      <td>Dawn</td>\n",
       "      <td>Stephens</td>\n",
       "      <td>0</td>\n",
       "      <td>91542 Marissa Shores Apt. 053</td>\n",
       "      <td>...</td>\n",
       "      <td>42.7012</td>\n",
       "      <td>-92.0762</td>\n",
       "      <td>53</td>\n",
       "      <td>434</td>\n",
       "      <td>1972-10-05</td>\n",
       "      <td>0850129a9e378fe808b71e8e795a2996</td>\n",
       "      <td>1336086023</td>\n",
       "      <td>41.920526</td>\n",
       "      <td>-91.150285</td>\n",
       "      <td>1</td>\n",
       "    </tr>\n",
       "    <tr>\n",
       "      <th>520702</th>\n",
       "      <td>520702</td>\n",
       "      <td>2019-08-12 15:09:03</td>\n",
       "      <td>3576431665303017</td>\n",
       "      <td>fraud_Streich Ltd</td>\n",
       "      <td>6</td>\n",
       "      <td>63.28</td>\n",
       "      <td>Jessica</td>\n",
       "      <td>Ward</td>\n",
       "      <td>0</td>\n",
       "      <td>72269 Elizabeth Field Apt. 132</td>\n",
       "      <td>...</td>\n",
       "      <td>33.5623</td>\n",
       "      <td>-112.0559</td>\n",
       "      <td>1312922</td>\n",
       "      <td>107</td>\n",
       "      <td>1981-10-24</td>\n",
       "      <td>8be4a27e46de64a318f7360906276c4a</td>\n",
       "      <td>1344784143</td>\n",
       "      <td>32.839685</td>\n",
       "      <td>-112.445502</td>\n",
       "      <td>0</td>\n",
       "    </tr>\n",
       "    <tr>\n",
       "      <th>194161</th>\n",
       "      <td>194161</td>\n",
       "      <td>2019-04-10 06:20:48</td>\n",
       "      <td>4939976756738216</td>\n",
       "      <td>fraud_Lockman, West and Runte</td>\n",
       "      <td>4</td>\n",
       "      <td>170.69</td>\n",
       "      <td>Michelle</td>\n",
       "      <td>Johnston</td>\n",
       "      <td>0</td>\n",
       "      <td>3531 Hamilton Highway</td>\n",
       "      <td>...</td>\n",
       "      <td>26.4215</td>\n",
       "      <td>-99.0025</td>\n",
       "      <td>18128</td>\n",
       "      <td>240</td>\n",
       "      <td>1990-11-07</td>\n",
       "      <td>6ff3ef39b29b1f648a87882b9d16d299</td>\n",
       "      <td>1334038848</td>\n",
       "      <td>26.165932</td>\n",
       "      <td>-99.580658</td>\n",
       "      <td>0</td>\n",
       "    </tr>\n",
       "    <tr>\n",
       "      <th>1205107</th>\n",
       "      <td>1205107</td>\n",
       "      <td>2020-05-18 19:59:21</td>\n",
       "      <td>30175986190993</td>\n",
       "      <td>fraud_Hamill-Daugherty</td>\n",
       "      <td>8</td>\n",
       "      <td>905.00</td>\n",
       "      <td>Rebecca</td>\n",
       "      <td>Butler</td>\n",
       "      <td>0</td>\n",
       "      <td>0665 Lisa Alley</td>\n",
       "      <td>...</td>\n",
       "      <td>47.5375</td>\n",
       "      <td>-95.9941</td>\n",
       "      <td>516</td>\n",
       "      <td>28</td>\n",
       "      <td>1966-06-07</td>\n",
       "      <td>518bfda4237c61c64e6de0d603016031</td>\n",
       "      <td>1368907161</td>\n",
       "      <td>48.211060</td>\n",
       "      <td>-96.661536</td>\n",
       "      <td>1</td>\n",
       "    </tr>\n",
       "    <tr>\n",
       "      <th>...</th>\n",
       "      <td>...</td>\n",
       "      <td>...</td>\n",
       "      <td>...</td>\n",
       "      <td>...</td>\n",
       "      <td>...</td>\n",
       "      <td>...</td>\n",
       "      <td>...</td>\n",
       "      <td>...</td>\n",
       "      <td>...</td>\n",
       "      <td>...</td>\n",
       "      <td>...</td>\n",
       "      <td>...</td>\n",
       "      <td>...</td>\n",
       "      <td>...</td>\n",
       "      <td>...</td>\n",
       "      <td>...</td>\n",
       "      <td>...</td>\n",
       "      <td>...</td>\n",
       "      <td>...</td>\n",
       "      <td>...</td>\n",
       "      <td>...</td>\n",
       "    </tr>\n",
       "    <tr>\n",
       "      <th>75548</th>\n",
       "      <td>75548</td>\n",
       "      <td>2020-07-17 17:53:25</td>\n",
       "      <td>4104312520615374</td>\n",
       "      <td>fraud_Prosacco, Kreiger and Kovacek</td>\n",
       "      <td>6</td>\n",
       "      <td>48.43</td>\n",
       "      <td>Brooke</td>\n",
       "      <td>Rodriguez</td>\n",
       "      <td>0</td>\n",
       "      <td>901 Todd Gardens Apt. 466</td>\n",
       "      <td>...</td>\n",
       "      <td>33.6401</td>\n",
       "      <td>-116.5567</td>\n",
       "      <td>1661</td>\n",
       "      <td>471</td>\n",
       "      <td>1988-09-19</td>\n",
       "      <td>6538cccc09ec3feb31157308e18337db</td>\n",
       "      <td>1374083605</td>\n",
       "      <td>32.829524</td>\n",
       "      <td>-116.584911</td>\n",
       "      <td>0</td>\n",
       "    </tr>\n",
       "    <tr>\n",
       "      <th>151221</th>\n",
       "      <td>151221</td>\n",
       "      <td>2020-08-12 22:24:12</td>\n",
       "      <td>374497717543058</td>\n",
       "      <td>fraud_Bauch-Raynor</td>\n",
       "      <td>4</td>\n",
       "      <td>340.63</td>\n",
       "      <td>Linda</td>\n",
       "      <td>Hurst</td>\n",
       "      <td>0</td>\n",
       "      <td>31701 Tucker Square Suite 893</td>\n",
       "      <td>...</td>\n",
       "      <td>47.1709</td>\n",
       "      <td>-100.7944</td>\n",
       "      <td>1190</td>\n",
       "      <td>121</td>\n",
       "      <td>1948-06-30</td>\n",
       "      <td>69091e3ce814474c832667cafd334817</td>\n",
       "      <td>1376346252</td>\n",
       "      <td>48.131002</td>\n",
       "      <td>-101.665120</td>\n",
       "      <td>1</td>\n",
       "    </tr>\n",
       "    <tr>\n",
       "      <th>409185</th>\n",
       "      <td>409185</td>\n",
       "      <td>2020-11-29 20:35:28</td>\n",
       "      <td>213161293389774</td>\n",
       "      <td>fraud_Kub PLC</td>\n",
       "      <td>10</td>\n",
       "      <td>42.39</td>\n",
       "      <td>Catherine</td>\n",
       "      <td>Weber</td>\n",
       "      <td>0</td>\n",
       "      <td>74890 Rodriguez Springs Apt. 540</td>\n",
       "      <td>...</td>\n",
       "      <td>43.0397</td>\n",
       "      <td>-77.6871</td>\n",
       "      <td>10256</td>\n",
       "      <td>454</td>\n",
       "      <td>1968-06-24</td>\n",
       "      <td>1930c7577706c896564780c1c07dff0c</td>\n",
       "      <td>1385757328</td>\n",
       "      <td>42.677454</td>\n",
       "      <td>-77.171772</td>\n",
       "      <td>0</td>\n",
       "    </tr>\n",
       "    <tr>\n",
       "      <th>504392</th>\n",
       "      <td>504392</td>\n",
       "      <td>2020-12-20 20:57:41</td>\n",
       "      <td>2720012583106919</td>\n",
       "      <td>fraud_Heaney-Marquardt</td>\n",
       "      <td>0</td>\n",
       "      <td>75.61</td>\n",
       "      <td>Joseph</td>\n",
       "      <td>Murray</td>\n",
       "      <td>1</td>\n",
       "      <td>42933 Ryan Underpass</td>\n",
       "      <td>...</td>\n",
       "      <td>43.3526</td>\n",
       "      <td>-102.5411</td>\n",
       "      <td>1126</td>\n",
       "      <td>488</td>\n",
       "      <td>1980-08-18</td>\n",
       "      <td>93d572600f8a872f792573d1dcf90b24</td>\n",
       "      <td>1387573061</td>\n",
       "      <td>42.625421</td>\n",
       "      <td>-102.023793</td>\n",
       "      <td>0</td>\n",
       "    </tr>\n",
       "    <tr>\n",
       "      <th>282237</th>\n",
       "      <td>282237</td>\n",
       "      <td>2020-10-04 22:25:37</td>\n",
       "      <td>3585052663373890</td>\n",
       "      <td>fraud_Padberg-Welch</td>\n",
       "      <td>4</td>\n",
       "      <td>360.25</td>\n",
       "      <td>Jeffery</td>\n",
       "      <td>Brown</td>\n",
       "      <td>1</td>\n",
       "      <td>296 Maria Street</td>\n",
       "      <td>...</td>\n",
       "      <td>42.8546</td>\n",
       "      <td>-75.6605</td>\n",
       "      <td>176</td>\n",
       "      <td>408</td>\n",
       "      <td>1963-12-28</td>\n",
       "      <td>6b485a9838d4c45cca68aa3d050a2aa1</td>\n",
       "      <td>1380925537</td>\n",
       "      <td>41.867495</td>\n",
       "      <td>-74.981987</td>\n",
       "      <td>1</td>\n",
       "    </tr>\n",
       "  </tbody>\n",
       "</table></div>"
      ],
      "text/plain": [
       "         Unnamed: 0 trans_date_trans_time               cc_num  \\\n",
       "1009952     1009952   2020-02-19 23:46:02     3533177016567295   \n",
       "246580       246580   2019-05-03 23:00:23  4358137750029944984   \n",
       "520702       520702   2019-08-12 15:09:03     3576431665303017   \n",
       "194161       194161   2019-04-10 06:20:48     4939976756738216   \n",
       "1205107     1205107   2020-05-18 19:59:21       30175986190993   \n",
       "...             ...                   ...                  ...   \n",
       "75548         75548   2020-07-17 17:53:25     4104312520615374   \n",
       "151221       151221   2020-08-12 22:24:12      374497717543058   \n",
       "409185       409185   2020-11-29 20:35:28      213161293389774   \n",
       "504392       504392   2020-12-20 20:57:41     2720012583106919   \n",
       "282237       282237   2020-10-04 22:25:37     3585052663373890   \n",
       "\n",
       "                                    merchant  category     amt      first  \\\n",
       "1009952                fraud_Dooley-Thompson         8  852.75      Derek   \n",
       "246580       fraud_Lowe, Dietrich and Erdman         7   19.21       Dawn   \n",
       "520702                     fraud_Streich Ltd         6   63.28    Jessica   \n",
       "194161         fraud_Lockman, West and Runte         4  170.69   Michelle   \n",
       "1205107               fraud_Hamill-Daugherty         8  905.00    Rebecca   \n",
       "...                                      ...       ...     ...        ...   \n",
       "75548    fraud_Prosacco, Kreiger and Kovacek         6   48.43     Brooke   \n",
       "151221                    fraud_Bauch-Raynor         4  340.63      Linda   \n",
       "409185                         fraud_Kub PLC        10   42.39  Catherine   \n",
       "504392                fraud_Heaney-Marquardt         0   75.61     Joseph   \n",
       "282237                   fraud_Padberg-Welch         4  360.25    Jeffery   \n",
       "\n",
       "              last  gender                            street  ...      lat  \\\n",
       "1009952    Bentley       1         782 Lee Crossing Apt. 209  ...  40.8731   \n",
       "246580    Stephens       0     91542 Marissa Shores Apt. 053  ...  42.7012   \n",
       "520702        Ward       0    72269 Elizabeth Field Apt. 132  ...  33.5623   \n",
       "194161    Johnston       0             3531 Hamilton Highway  ...  26.4215   \n",
       "1205107     Butler       0                   0665 Lisa Alley  ...  47.5375   \n",
       "...            ...     ...                               ...  ...      ...   \n",
       "75548    Rodriguez       0         901 Todd Gardens Apt. 466  ...  33.6401   \n",
       "151221       Hurst       0     31701 Tucker Square Suite 893  ...  47.1709   \n",
       "409185       Weber       0  74890 Rodriguez Springs Apt. 540  ...  43.0397   \n",
       "504392      Murray       1              42933 Ryan Underpass  ...  43.3526   \n",
       "282237       Brown       1                  296 Maria Street  ...  42.8546   \n",
       "\n",
       "             long  city_pop  job         dob  \\\n",
       "1009952  -96.1528      1517  120  1951-11-08   \n",
       "246580   -92.0762        53  434  1972-10-05   \n",
       "520702  -112.0559   1312922  107  1981-10-24   \n",
       "194161   -99.0025     18128  240  1990-11-07   \n",
       "1205107  -95.9941       516   28  1966-06-07   \n",
       "...           ...       ...  ...         ...   \n",
       "75548   -116.5567      1661  471  1988-09-19   \n",
       "151221  -100.7944      1190  121  1948-06-30   \n",
       "409185   -77.6871     10256  454  1968-06-24   \n",
       "504392  -102.5411      1126  488  1980-08-18   \n",
       "282237   -75.6605       176  408  1963-12-28   \n",
       "\n",
       "                                trans_num   unix_time  merch_lat  merch_long  \\\n",
       "1009952  5772d41831f2f0d477349772a32bf627  1361317562  41.082580  -95.573292   \n",
       "246580   0850129a9e378fe808b71e8e795a2996  1336086023  41.920526  -91.150285   \n",
       "520702   8be4a27e46de64a318f7360906276c4a  1344784143  32.839685 -112.445502   \n",
       "194161   6ff3ef39b29b1f648a87882b9d16d299  1334038848  26.165932  -99.580658   \n",
       "1205107  518bfda4237c61c64e6de0d603016031  1368907161  48.211060  -96.661536   \n",
       "...                                   ...         ...        ...         ...   \n",
       "75548    6538cccc09ec3feb31157308e18337db  1374083605  32.829524 -116.584911   \n",
       "151221   69091e3ce814474c832667cafd334817  1376346252  48.131002 -101.665120   \n",
       "409185   1930c7577706c896564780c1c07dff0c  1385757328  42.677454  -77.171772   \n",
       "504392   93d572600f8a872f792573d1dcf90b24  1387573061  42.625421 -102.023793   \n",
       "282237   6b485a9838d4c45cca68aa3d050a2aa1  1380925537  41.867495  -74.981987   \n",
       "\n",
       "         is_fraud  \n",
       "1009952         1  \n",
       "246580          1  \n",
       "520702          0  \n",
       "194161          0  \n",
       "1205107         1  \n",
       "...           ...  \n",
       "75548           0  \n",
       "151221          1  \n",
       "409185          0  \n",
       "504392          0  \n",
       "282237          1  \n",
       "\n",
       "[19302 rows x 23 columns]"
      ]
     },
     "execution_count": 17,
     "metadata": {},
     "output_type": "execute_result"
    }
   ],
   "source": [
    "df"
   ]
  },
  {
   "cell_type": "markdown",
   "metadata": {},
   "source": [
    "### Making age of user using 'dob' column"
   ]
  },
  {
   "cell_type": "code",
   "execution_count": 18,
   "metadata": {},
   "outputs": [
    {
     "data": {
      "text/plain": [
       "1009952    71\n",
       "246580     50\n",
       "520702     41\n",
       "194161     32\n",
       "1205107    56\n",
       "           ..\n",
       "75548      34\n",
       "151221     74\n",
       "409185     54\n",
       "504392     42\n",
       "282237     59\n",
       "Name: dob, Length: 19302, dtype: int32"
      ]
     },
     "execution_count": 18,
     "metadata": {},
     "output_type": "execute_result"
    }
   ],
   "source": [
    "df['dob'] = df['dob'].str[0:4]\n",
    "df['dob'] = df['dob'].astype(int)\n",
    "df['dob'] = 2022-df['dob']\n",
    "df['dob']"
   ]
  },
  {
   "cell_type": "markdown",
   "metadata": {},
   "source": [
    "### Making transaction_hour column"
   ]
  },
  {
   "cell_type": "code",
   "execution_count": 19,
   "metadata": {},
   "outputs": [
    {
     "data": {
      "text/plain": [
       "1009952    23\n",
       "246580     23\n",
       "520702     15\n",
       "194161      6\n",
       "1205107    19\n",
       "           ..\n",
       "75548      17\n",
       "151221     22\n",
       "409185     20\n",
       "504392     20\n",
       "282237     22\n",
       "Name: transaction_hour, Length: 19302, dtype: int32"
      ]
     },
     "execution_count": 19,
     "metadata": {},
     "output_type": "execute_result"
    }
   ],
   "source": [
    "df['transaction_hour'] = df['trans_date_trans_time'].str[11:13]\n",
    "df['transaction_hour'] = df['transaction_hour'].astype(int)\n",
    "df['transaction_hour']"
   ]
  },
  {
   "cell_type": "markdown",
   "metadata": {},
   "source": [
    "### Making column for weekday on which transaction was done"
   ]
  },
  {
   "cell_type": "code",
   "execution_count": 20,
   "metadata": {},
   "outputs": [
    {
     "data": {
      "text/plain": [
       "1009952   2020-02-19\n",
       "246580    2019-05-03\n",
       "520702    2019-08-12\n",
       "194161    2019-04-10\n",
       "1205107   2020-05-18\n",
       "             ...    \n",
       "75548     2020-07-17\n",
       "151221    2020-08-12\n",
       "409185    2020-11-29\n",
       "504392    2020-12-20\n",
       "282237    2020-10-04\n",
       "Name: transaction_date, Length: 19302, dtype: datetime64[ns]"
      ]
     },
     "execution_count": 20,
     "metadata": {},
     "output_type": "execute_result"
    }
   ],
   "source": [
    "df[\"transaction_date\"] = df['trans_date_trans_time'].str[:10]\n",
    "df[\"transaction_date\"] = df[\"transaction_date\"].apply(pd.to_datetime)\n",
    "df[\"transaction_date\"]"
   ]
  },
  {
   "cell_type": "code",
   "execution_count": 21,
   "metadata": {},
   "outputs": [
    {
     "data": {
      "text/plain": [
       "1009952    2\n",
       "246580     4\n",
       "520702     0\n",
       "194161     2\n",
       "1205107    0\n",
       "          ..\n",
       "75548      4\n",
       "151221     2\n",
       "409185     6\n",
       "504392     6\n",
       "282237     6\n",
       "Name: transaction_weekday, Length: 19302, dtype: int64"
      ]
     },
     "execution_count": 21,
     "metadata": {},
     "output_type": "execute_result"
    }
   ],
   "source": [
    "# The day of the week with Monday=0, Sunday=6.\n",
    "df[\"transaction_weekday\"] = df[\"transaction_date\"].dt.dayofweek\n",
    "df[\"transaction_weekday\"]"
   ]
  },
  {
   "cell_type": "markdown",
   "metadata": {},
   "source": [
    "### Dropping columns"
   ]
  },
  {
   "cell_type": "code",
   "execution_count": 22,
   "metadata": {},
   "outputs": [
    {
     "data": {
      "text/plain": [
       "Index(['cc_num', 'category', 'amt', 'gender', 'street', 'city', 'state', 'zip',\n",
       "       'lat', 'long', 'city_pop', 'job', 'dob', 'merch_lat', 'merch_long',\n",
       "       'is_fraud', 'transaction_hour', 'transaction_weekday'],\n",
       "      dtype='object')"
      ]
     },
     "execution_count": 22,
     "metadata": {},
     "output_type": "execute_result"
    }
   ],
   "source": [
    "df1 = df.drop(['trans_date_trans_time', 'merchant', 'Unnamed: 0', 'trans_num', 'first', 'last',\n",
    "              'unix_time', 'transaction_date'], axis='columns')\n",
    "df1.columns"
   ]
  },
  {
   "cell_type": "markdown",
   "metadata": {},
   "source": [
    "### Correlation Matrix"
   ]
  },
  {
   "cell_type": "code",
   "execution_count": 23,
   "metadata": {},
   "outputs": [
    {
     "data": {
      "image/png": "[encoded data removed]",
      "text/plain": [
       "<Figure size 936x720 with 2 Axes>"
      ]
     },
     "metadata": {
      "needs_background": "light"
     },
     "output_type": "display_data"
    }
   ],
   "source": [
    "plt.figure(figsize=(13, 10))\n",
    "sns.heatmap(df1.corr(), cmap=\"YlGnBu\", annot=True)\n",
    "plt.show()"
   ]
  },
  {
   "cell_type": "markdown",
   "metadata": {},
   "source": [
    "From the above matrix, we can conclude that columns- 'category', 'amt', 'gender', 'dob', and 'transaction_hour' are most correlated with target column and therefore, we will use these attributes only."
   ]
  },
  {
   "cell_type": "code",
   "execution_count": 24,
   "metadata": {},
   "outputs": [
    {
     "name": "stdout",
     "output_type": "stream",
     "text": [
      "Shape of independent variables table: (19302, 5)\n",
      "Shape of target variable table: (19302, 1)\n"
     ]
    }
   ],
   "source": [
    "df_final = df1[['category', 'amt', 'gender', 'dob', 'transaction_hour', 'is_fraud']]\n",
    "df_final = df_final.sample(frac=1, random_state=0)\n",
    "\n",
    "X = df_final[['category', 'amt', 'gender', 'dob', 'transaction_hour']]\n",
    "y = df_final[['is_fraud']]\n",
    "\n",
    "print(\"Shape of independent variables table:\", X.shape)\n",
    "print(\"Shape of target variable table:\", y.shape)"
   ]
  },
  {
   "cell_type": "code",
   "execution_count": 25,
   "metadata": {},
   "outputs": [],
   "source": [
    "# df_final.to_csv(\"cleaned_fraud_data.csv\", index=False)"
   ]
  },
  {
   "cell_type": "markdown",
   "metadata": {},
   "source": [
    "## Comparing 8 classifiers using lazypredict"
   ]
  },
  {
   "cell_type": "code",
   "execution_count": 26,
   "metadata": {},
   "outputs": [],
   "source": [
    "#pip install lazypredict "
   ]
  },
  {
   "cell_type": "code",
   "execution_count": 27,
   "metadata": {},
   "outputs": [
    {
     "name": "stdout",
     "output_type": "stream",
     "text": [
      "Python 3.8.1\n"
     ]
    }
   ],
   "source": [
    "!python --version"
   ]
  },
  {
   "cell_type": "code",
   "execution_count": 28,
   "metadata": {},
   "outputs": [],
   "source": [
    "import lazypredict \n",
    "from lazypredict import Supervised \n",
    "from lazypredict.Supervised import LazyClassifier\n",
    "import matplotlib.pyplot as plt \n",
    "from sklearn.model_selection import train_test_split\n",
    "\n",
    "plt.style.use('fivethirtyeight')\n",
    "plt.rcParams[\"figure.figsize\"] = (10,5)\n",
    "\n",
    "# train-test split\n",
    "X_train, X_valid, y_train, y_valid = train_test_split(X, y, test_size=.5, random_state=12)"
   ]
  },
  {
   "cell_type": "markdown",
   "metadata": {},
   "source": [
    "#### Listing all available Classifiers"
   ]
  },
  {
   "cell_type": "code",
   "execution_count": 29,
   "metadata": {},
   "outputs": [
    {
     "name": "stdout",
     "output_type": "stream",
     "text": [
      "1 AdaBoostClassifier\n",
      "2 BaggingClassifier\n",
      "3 BernoulliNB\n",
      "4 CalibratedClassifierCV\n",
      "5 CategoricalNB\n",
      "6 DecisionTreeClassifier\n",
      "7 DummyClassifier\n",
      "8 ExtraTreeClassifier\n",
      "9 ExtraTreesClassifier\n",
      "10 GaussianNB\n",
      "11 KNeighborsClassifier\n",
      "12 LabelPropagation\n",
      "13 LabelSpreading\n",
      "14 LinearDiscriminantAnalysis\n",
      "15 LinearSVC\n",
      "16 LogisticRegression\n",
      "17 NearestCentroid\n",
      "18 NuSVC\n",
      "19 PassiveAggressiveClassifier\n",
      "20 Perceptron\n",
      "21 QuadraticDiscriminantAnalysis\n",
      "22 RandomForestClassifier\n",
      "23 RidgeClassifier\n",
      "24 RidgeClassifierCV\n",
      "25 SGDClassifier\n",
      "26 SVC\n",
      "27 StackingClassifier\n",
      "28 XGBClassifier\n",
      "29 LGBMClassifier\n"
     ]
    }
   ],
   "source": [
    "for i in range(29):\n",
    "    print(i+1, lazypredict.Supervised.CLASSIFIERS[i][0])"
   ]
  },
  {
   "cell_type": "code",
   "execution_count": 30,
   "metadata": {},
   "outputs": [
    {
     "name": "stderr",
     "output_type": "stream",
     "text": [
      " 90%|█████████████████████████████████████████████████████████████████████████▌        | 26/29 [00:18<00:01,  2.06it/s]"
     ]
    },
    {
     "name": "stdout",
     "output_type": "stream",
     "text": [
      "[13:46:00] WARNING: C:/Users/Administrator/workspace/xgboost-win64_release_1.4.0/src/learner.cc:1095: Starting in XGBoost 1.3.0, the default evaluation metric used with the objective 'binary:logistic' was changed from 'error' to 'logloss'. Explicitly set eval_metric if you'd like to restore the old behavior.\n"
     ]
    },
    {
     "name": "stderr",
     "output_type": "stream",
     "text": [
      "100%|██████████████████████████████████████████████████████████████████████████████████| 29/29 [00:20<00:00,  1.43it/s]\n"
     ]
    }
   ],
   "source": [
    "clf = LazyClassifier(verbose=0,\n",
    "                     ignore_warnings=True,\n",
    "                     custom_metric=None,\n",
    "                     random_state=12,\n",
    "                     classifiers='all',\n",
    "                    )\n",
    "models, predictions = clf.fit(X_train, X_valid, y_train, y_valid)"
   ]
  },
  {
   "cell_type": "code",
   "execution_count": 31,
   "metadata": {},
   "outputs": [
    {
     "data": {
      "text/html": [
       "<div><div id=a46ff587-744d-4ec6-8eda-be373fc61a87 style=\"display:none; background-color:#9D6CFF; color:white; width:200px; height:30px; padding-left:5px; border-radius:4px; flex-direction:row; justify-content:space-around; align-items:center;\" onmouseover=\"this.style.backgroundColor='#BA9BF8'\" onmouseout=\"this.style.backgroundColor='#9D6CFF'\" onclick=\"window.commands?.execute('create-mitosheet-from-dataframe-output');\">See Full Dataframe in Mito</div> <script> if (window.commands.hasCommand('create-mitosheet-from-dataframe-output')) document.getElementById('a46ff587-744d-4ec6-8eda-be373fc61a87').style.display = 'flex' </script> <table border=\"1\" class=\"dataframe\">\n",
       "  <thead>\n",
       "    <tr style=\"text-align: right;\">\n",
       "      <th></th>\n",
       "      <th>Accuracy</th>\n",
       "      <th>Balanced Accuracy</th>\n",
       "      <th>ROC AUC</th>\n",
       "      <th>F1 Score</th>\n",
       "      <th>Time Taken</th>\n",
       "    </tr>\n",
       "    <tr>\n",
       "      <th>Model</th>\n",
       "      <th></th>\n",
       "      <th></th>\n",
       "      <th></th>\n",
       "      <th></th>\n",
       "      <th></th>\n",
       "    </tr>\n",
       "  </thead>\n",
       "  <tbody>\n",
       "    <tr>\n",
       "      <th>LGBMClassifier</th>\n",
       "      <td>0.98</td>\n",
       "      <td>0.98</td>\n",
       "      <td>0.98</td>\n",
       "      <td>0.98</td>\n",
       "      <td>0.14</td>\n",
       "    </tr>\n",
       "    <tr>\n",
       "      <th>XGBClassifier</th>\n",
       "      <td>0.98</td>\n",
       "      <td>0.98</td>\n",
       "      <td>0.98</td>\n",
       "      <td>0.98</td>\n",
       "      <td>1.37</td>\n",
       "    </tr>\n",
       "    <tr>\n",
       "      <th>RandomForestClassifier</th>\n",
       "      <td>0.98</td>\n",
       "      <td>0.98</td>\n",
       "      <td>0.98</td>\n",
       "      <td>0.98</td>\n",
       "      <td>0.66</td>\n",
       "    </tr>\n",
       "    <tr>\n",
       "      <th>ExtraTreesClassifier</th>\n",
       "      <td>0.97</td>\n",
       "      <td>0.97</td>\n",
       "      <td>0.97</td>\n",
       "      <td>0.97</td>\n",
       "      <td>0.50</td>\n",
       "    </tr>\n",
       "    <tr>\n",
       "      <th>BaggingClassifier</th>\n",
       "      <td>0.97</td>\n",
       "      <td>0.97</td>\n",
       "      <td>0.97</td>\n",
       "      <td>0.97</td>\n",
       "      <td>0.22</td>\n",
       "    </tr>\n",
       "    <tr>\n",
       "      <th>DecisionTreeClassifier</th>\n",
       "      <td>0.97</td>\n",
       "      <td>0.97</td>\n",
       "      <td>0.97</td>\n",
       "      <td>0.97</td>\n",
       "      <td>0.04</td>\n",
       "    </tr>\n",
       "    <tr>\n",
       "      <th>ExtraTreeClassifier</th>\n",
       "      <td>0.95</td>\n",
       "      <td>0.95</td>\n",
       "      <td>0.95</td>\n",
       "      <td>0.95</td>\n",
       "      <td>0.02</td>\n",
       "    </tr>\n",
       "    <tr>\n",
       "      <th>AdaBoostClassifier</th>\n",
       "      <td>0.94</td>\n",
       "      <td>0.94</td>\n",
       "      <td>0.94</td>\n",
       "      <td>0.94</td>\n",
       "      <td>0.34</td>\n",
       "    </tr>\n",
       "  </tbody>\n",
       "</table></div>"
      ],
      "text/plain": [
       "                        Accuracy  Balanced Accuracy  ROC AUC  F1 Score  \\\n",
       "Model                                                                    \n",
       "LGBMClassifier              0.98               0.98     0.98      0.98   \n",
       "XGBClassifier               0.98               0.98     0.98      0.98   \n",
       "RandomForestClassifier      0.98               0.98     0.98      0.98   \n",
       "ExtraTreesClassifier        0.97               0.97     0.97      0.97   \n",
       "BaggingClassifier           0.97               0.97     0.97      0.97   \n",
       "DecisionTreeClassifier      0.97               0.97     0.97      0.97   \n",
       "ExtraTreeClassifier         0.95               0.95     0.95      0.95   \n",
       "AdaBoostClassifier          0.94               0.94     0.94      0.94   \n",
       "\n",
       "                        Time Taken  \n",
       "Model                               \n",
       "LGBMClassifier                0.14  \n",
       "XGBClassifier                 1.37  \n",
       "RandomForestClassifier        0.66  \n",
       "ExtraTreesClassifier          0.50  \n",
       "BaggingClassifier             0.22  \n",
       "DecisionTreeClassifier        0.04  \n",
       "ExtraTreeClassifier           0.02  \n",
       "AdaBoostClassifier            0.34  "
      ]
     },
     "execution_count": 31,
     "metadata": {},
     "output_type": "execute_result"
    }
   ],
   "source": [
    "models.head(8)"
   ]
  },
  {
   "cell_type": "code",
   "execution_count": 32,
   "metadata": {},
   "outputs": [
    {
     "data": {
      "text/plain": [
       "Model\n",
       "LGBMClassifier           0.98\n",
       "XGBClassifier            0.98\n",
       "RandomForestClassifier   0.98\n",
       "ExtraTreesClassifier     0.97\n",
       "BaggingClassifier        0.97\n",
       "DecisionTreeClassifier   0.97\n",
       "ExtraTreeClassifier      0.95\n",
       "AdaBoostClassifier       0.94\n",
       "Name: Accuracy, dtype: float64"
      ]
     },
     "execution_count": 32,
     "metadata": {},
     "output_type": "execute_result"
    }
   ],
   "source": [
    "models[\"Accuracy\"][0:8]"
   ]
  },
  {
   "cell_type": "code",
   "execution_count": 33,
   "metadata": {},
   "outputs": [
    {
     "data": {
      "image/png": "[encoded data removed]",
      "text/plain": [
       "<Figure size 720x360 with 1 Axes>"
      ]
     },
     "metadata": {},
     "output_type": "display_data"
    }
   ],
   "source": [
    "idx = [i for i in range(1,28)]\n",
    "plt.plot(idx[0:8], models[\"Accuracy\"][0:8]  ,marker='o' , label = \"Accuracy\" )\n",
    "plt.plot(idx[0:8], models[\"ROC AUC\"][0:8] , marker ='o' , label = \"ROC AUC\")\n",
    "plt.annotate(models.index[0] , \n",
    "             (1, models[\"Accuracy\"][0]) , \n",
    "             xytext = (0.7, 0.96),\n",
    "             arrowprops = dict(\n",
    "                               arrowstyle = \"simple\"\n",
    "                              ))\n",
    "plt.annotate(models.index[7] , \n",
    "             (8, models[\"Accuracy\"][7]) , \n",
    "             xytext = (5, models[\"Accuracy\"][7]),\n",
    "             arrowprops = dict(\n",
    "                               arrowstyle = \"simple\"\n",
    "                              ))\n",
    "plt.xlabel(\"Models\")\n",
    "plt.ylabel(\"Metrics\")\n",
    "plt.title(\"Comparison of 8 Different Classifiers\")\n",
    "plt.legend()\n",
    "plt.show()"
   ]
  },
  {
   "cell_type": "markdown",
   "metadata": {},
   "source": [
    "## XGBOOST Classifier"
   ]
  },
  {
   "cell_type": "code",
   "execution_count": 34,
   "metadata": {},
   "outputs": [
    {
     "name": "stdout",
     "output_type": "stream",
     "text": [
      "[13:46:02] WARNING: C:/Users/Administrator/workspace/xgboost-win64_release_1.4.0/src/learner.cc:1095: Starting in XGBoost 1.3.0, the default evaluation metric used with the objective 'binary:logistic' was changed from 'error' to 'logloss'. Explicitly set eval_metric if you'd like to restore the old behavior.\n"
     ]
    },
    {
     "data": {
      "text/plain": [
       "XGBClassifier(base_score=0.5, booster='gbtree', colsample_bylevel=1,\n",
       "              colsample_bynode=1, colsample_bytree=1, gamma=0, gpu_id=-1,\n",
       "              importance_type='gain', interaction_constraints='',\n",
       "              learning_rate=0.300000012, max_delta_step=0, max_depth=6,\n",
       "              min_child_weight=1, missing=nan, monotone_constraints='()',\n",
       "              n_estimators=100, n_jobs=8, num_parallel_tree=1, random_state=0,\n",
       "              reg_alpha=0, reg_lambda=1, scale_pos_weight=1, subsample=1,\n",
       "              tree_method='exact', validate_parameters=1, verbosity=None)"
      ]
     },
     "execution_count": 34,
     "metadata": {},
     "output_type": "execute_result"
    }
   ],
   "source": [
    "import xgboost as xgb\n",
    "my_model = xgb.XGBClassifier()\n",
    "my_model.fit(X_train, y_train)"
   ]
  },
  {
   "cell_type": "code",
   "execution_count": 35,
   "metadata": {},
   "outputs": [
    {
     "name": "stdout",
     "output_type": "stream",
     "text": [
      "ROC AUC before parameter tuning: 0.9975953345646869\n"
     ]
    }
   ],
   "source": [
    "import sklearn.metrics as metrics\n",
    "y_pred = my_model.predict_proba(X_valid)[:,1]\n",
    "print(\"ROC AUC before parameter tuning:\", metrics.roc_auc_score(y_valid, y_pred))"
   ]
  },
  {
   "cell_type": "code",
   "execution_count": 36,
   "metadata": {},
   "outputs": [
    {
     "data": {
      "text/plain": [
       "0.9781369806237695"
      ]
     },
     "execution_count": 36,
     "metadata": {},
     "output_type": "execute_result"
    }
   ],
   "source": [
    "from sklearn.metrics import accuracy_score\n",
    "\n",
    "y_pred = my_model.predict(X_valid)\n",
    "y_pred = [round(value) for value in y_pred]\n",
    "\n",
    "# Evaluate predictions\n",
    "accuracy_score(y_valid, y_pred)"
   ]
  },
  {
   "cell_type": "markdown",
   "metadata": {},
   "source": [
    "### Hyper-Parameter Tuning"
   ]
  },
  {
   "cell_type": "code",
   "execution_count": 37,
   "metadata": {
    "scrolled": true
   },
   "outputs": [
    {
     "name": "stdout",
     "output_type": "stream",
     "text": [
      "SCORE:                                                                                                                 \n",
      "0.9303699098539011                                                                                                     \n",
      "SCORE:                                                                                                                 \n",
      "0.9366904983939488                                                                                                     \n",
      "SCORE:                                                                                                                 \n",
      "0.9174178841570821                                                                                                     \n",
      "SCORE:                                                                                                                 \n",
      "0.9188685110351259                                                                                                     \n",
      "SCORE:                                                                                                                 \n",
      "0.937104963216247                                                                                                      \n",
      "SCORE:                                                                                                                 \n",
      "0.9274686560978137                                                                                                     \n",
      "SCORE:                                                                                                                 \n",
      "0.919075743446275                                                                                                      \n",
      "SCORE:                                                                                                                 \n",
      "0.9307843746761993                                                                                                     \n",
      "SCORE:                                                                                                                 \n",
      "0.9309916070873485                                                                                                     \n",
      "SCORE:                                                                                                                 \n",
      "0.9300590612371775                                                                                                     \n",
      "SCORE:                                                                                                                 \n",
      "0.9279867371256865                                                                                                     \n",
      "SCORE:                                                                                                                 \n",
      "0.9170034193347839                                                                                                     \n",
      "SCORE:                                                                                                                 \n",
      "0.9272614236866646                                                                                                     \n",
      "SCORE:                                                                                                                 \n",
      "0.9272614236866646                                                                                                     \n",
      "SCORE:                                                                                                                 \n",
      "0.929955445031603                                                                                                      \n",
      "SCORE:                                                                                                                 \n",
      "0.9242565537250026                                                                                                     \n",
      "SCORE:                                                                                                                 \n",
      "0.922080613407937                                                                                                      \n",
      "SCORE:                                                                                                                 \n",
      "0.938037509066418                                                                                                      \n",
      "SCORE:                                                                                                                 \n",
      "0.9228059268469588                                                                                                     \n",
      "SCORE:                                                                                                                 \n",
      "0.9278831209201119                                                                                                     \n",
      "SCORE:                                                                                                                 \n",
      "0.9311988394984976                                                                                                     \n",
      "SCORE:                                                                                                                 \n",
      "0.9386592062998653                                                                                                     \n",
      "SCORE:                                                                                                                 \n",
      "0.9379338928608434                                                                                                     \n",
      "SCORE:                                                                                                                 \n",
      "0.9276758885089628                                                                                                     \n",
      "SCORE:                                                                                                                 \n",
      "0.9374158118329706                                                                                                     \n",
      "SCORE:                                                                                                                 \n",
      "0.929955445031603                                                                                                      \n",
      "SCORE:                                                                                                                 \n",
      "0.9315096881152212                                                                                                     \n",
      "SCORE:                                                                                                                 \n",
      "0.9387628225054399                                                                                                     \n",
      "SCORE:                                                                                                                 \n",
      "0.9327530825821159                                                                                                     \n",
      "SCORE:                                                                                                                 \n",
      "0.9273650398922392                                                                                                     \n",
      "SCORE:                                                                                                                 \n",
      "0.9327530825821159                                                                                                     \n",
      "SCORE:                                                                                                                 \n",
      "0.9374158118329706                                                                                                     \n",
      "SCORE:                                                                                                                 \n",
      "0.9320277691430939                                                                                                     \n",
      "SCORE:                                                                                                                 \n",
      "0.9387628225054399                                                                                                     \n",
      "SCORE:                                                                                                                 \n",
      "0.9278831209201119                                                                                                     \n",
      "SCORE:                                                                                                                 \n",
      "0.9250854833695991                                                                                                     \n",
      "SCORE:                                                                                                                 \n",
      "0.930162677442752                                                                                                      \n",
      "SCORE:                                                                                                                 \n",
      "0.9171070355403586                                                                                                     \n",
      "SCORE:                                                                                                                 \n",
      "0.9322350015542431                                                                                                     \n",
      "SCORE:                                                                                                                 \n",
      "0.9360688011605015                                                                                                     \n",
      "SCORE:                                                                                                                 \n",
      "0.9300590612371775                                                                                                     \n",
      "SCORE:                                                                                                                 \n",
      "0.929955445031603                                                                                                      \n",
      "SCORE:                                                                                                                 \n",
      "0.9281939695368355                                                                                                     \n",
      "SCORE:                                                                                                                 \n",
      "0.9326494663765413                                                                                                     \n",
      "SCORE:                                                                                                                 \n",
      "0.9254999481918972                                                                                                     \n",
      "SCORE:                                                                                                                 \n",
      "0.9374158118329706                                                                                                     \n",
      "SCORE:                                                                                                                 \n",
      "0.9228059268469588                                                                                                     \n",
      "SCORE:                                                                                                                 \n",
      "0.9189721272407004                                                                                                     \n",
      "SCORE:                                                                                                                 \n",
      "0.9324422339653922                                                                                                     \n",
      "SCORE:                                                                                                                 \n",
      "0.9298518288260283                                                                                                     \n",
      "SCORE:                                                                                                                 \n",
      "0.936897730805098                                                                                                      \n",
      "SCORE:                                                                                                                 \n",
      "0.9242565537250026                                                                                                     \n",
      "SCORE:                                                                                                                 \n",
      "0.9370013470106725                                                                                                     \n",
      "SCORE:                                                                                                                 \n",
      "0.9275722723033882                                                                                                     \n",
      "SCORE:                                                                                                                 \n",
      "0.9272614236866646                                                                                                     \n",
      "SCORE:                                                                                                                 \n",
      "0.9228059268469588                                                                                                     \n",
      "SCORE:                                                                                                                 \n",
      "0.9303699098539011                                                                                                     \n",
      "SCORE:                                                                                                                 \n",
      "0.9366904983939488                                                                                                     \n",
      "SCORE:                                                                                                                 \n",
      "0.9265361102476427                                                                                                     \n",
      "SCORE:                                                                                                                 \n",
      "0.9397989845611854                                                                                                     \n",
      "SCORE:                                                                                                                 \n",
      "0.9281939695368355                                                                                                     \n",
      "SCORE:                                                                                                                 \n",
      "0.9306807584706248                                                                                                     \n",
      "SCORE:                                                                                                                 \n",
      "0.9231167754636825                                                                                                     \n",
      "SCORE:                                                                                                                 \n",
      "0.9307843746761993                                                                                                     \n",
      "SCORE:                                                                                                                 \n",
      "0.9317169205263703                                                                                                     \n",
      "SCORE:                                                                                                                 \n",
      "0.9382447414775671                                                                                                     \n",
      "SCORE:                                                                                                                 \n",
      "0.9391772873277381                                                                                                     \n",
      "SCORE:                                                                                                                 \n",
      "0.936897730805098                                                                                                      \n"
     ]
    },
    {
     "name": "stdout",
     "output_type": "stream",
     "text": [
      "SCORE:                                                                                                                 \n",
      "0.9375194280385453                                                                                                     \n",
      "SCORE:                                                                                                                 \n",
      "0.9335820122267122                                                                                                     \n",
      "SCORE:                                                                                                                 \n",
      "0.9317169205263703                                                                                                     \n",
      "SCORE:                                                                                                                 \n",
      "0.9372085794218216                                                                                                     \n",
      "SCORE:                                                                                                                 \n",
      "0.9376230442441198                                                                                                     \n",
      "SCORE:                                                                                                                 \n",
      "0.9295409802093048                                                                                                     \n",
      "SCORE:                                                                                                                 \n",
      "0.9375194280385453                                                                                                     \n",
      "SCORE:                                                                                                                 \n",
      "0.9300590612371775                                                                                                     \n",
      "SCORE:                                                                                                                 \n",
      "0.9335820122267122                                                                                                     \n",
      "SCORE:                                                                                                                 \n",
      "0.9294373640037302                                                                                                     \n",
      "SCORE:                                                                                                                 \n",
      "0.9363796497772252                                                                                                     \n",
      "SCORE:                                                                                                                 \n",
      "0.9372085794218216                                                                                                     \n",
      "SCORE:                                                                                                                 \n",
      "0.9394881359444617                                                                                                     \n",
      "SCORE:                                                                                                                 \n",
      "0.9379338928608434                                                                                                     \n",
      "SCORE:                                                                                                                 \n",
      "0.9303699098539011                                                                                                     \n",
      "SCORE:                                                                                                                 \n",
      "0.9315096881152212                                                                                                     \n",
      "SCORE:                                                                                                                 \n",
      "0.9309916070873485                                                                                                     \n",
      "SCORE:                                                                                                                 \n",
      "0.919075743446275                                                                                                      \n",
      "SCORE:                                                                                                                 \n",
      "0.9273650398922392                                                                                                     \n",
      "SCORE:                                                                                                                 \n",
      "0.9188685110351259                                                                                                     \n",
      "SCORE:                                                                                                                 \n",
      "0.9396953683556108                                                                                                     \n",
      "SCORE:                                                                                                                 \n",
      "0.9273650398922392                                                                                                     \n",
      "SCORE:                                                                                                                 \n",
      "0.9407315304113564                                                                                                     \n",
      "SCORE:                                                                                                                 \n",
      "0.9300590612371775                                                                                                     \n",
      "SCORE:                                                                                                                 \n",
      "0.9278831209201119                                                                                                     \n",
      "SCORE:                                                                                                                 \n",
      "0.9378302766552689                                                                                                     \n",
      "SCORE:                                                                                                                 \n",
      "0.9248782509584499                                                                                                     \n",
      "SCORE:                                                                                                                 \n",
      "0.9318205367319449                                                                                                     \n",
      "SCORE:                                                                                                                 \n",
      "0.9372085794218216                                                                                                     \n",
      "SCORE:                                                                                                                 \n",
      "0.9331675474044141                                                                                                     \n",
      "SCORE:                                                                                                                 \n",
      "0.9331675474044141                                                                                                     \n",
      "SCORE:                                                                                                                 \n",
      "0.9256035643974717                                                                                                     \n",
      "100%|█████████████████████████████████████████████| 100/100 [00:40<00:00,  2.48trial/s, best loss: -0.9407315304113564]\n"
     ]
    }
   ],
   "source": [
    "# For hyperparameters tuning\n",
    "from hyperopt import STATUS_OK, Trials, fmin, hp, tpe\n",
    "\n",
    "space={'max_depth': hp.quniform(\"max_depth\", 3, 18, 1),\n",
    "        'gamma': hp.uniform ('gamma', 1,9),\n",
    "        'reg_alpha' : hp.quniform('reg_alpha', 40,180,1),\n",
    "        'reg_lambda' : hp.uniform('reg_lambda', 0,1),\n",
    "        'colsample_bytree' : hp.uniform('colsample_bytree', 0.5,1),\n",
    "        'min_child_weight' : hp.quniform('min_child_weight', 0, 10, 1),\n",
    "        'n_estimators': 180,\n",
    "        'seed': 0\n",
    "    }\n",
    "\n",
    "def objective(space):\n",
    "    clf=xgb.XGBClassifier(\n",
    "                    n_estimators =space['n_estimators'], max_depth = int(space['max_depth']), gamma = space['gamma'],\n",
    "                    reg_alpha = int(space['reg_alpha']),min_child_weight=int(space['min_child_weight']),\n",
    "                    colsample_bytree=int(space['colsample_bytree']))\n",
    "    \n",
    "    evaluation = [( X_train, y_train), ( X_valid, y_valid)]\n",
    "    \n",
    "    clf.fit(X_train, y_train,\n",
    "            eval_set=evaluation, eval_metric=\"auc\",\n",
    "            early_stopping_rounds=10,verbose=False)\n",
    "    \n",
    "\n",
    "    pred = clf.predict(X_valid)\n",
    "    accuracy = accuracy_score(y_valid, pred>0.5)\n",
    "    print (\"SCORE:\", accuracy)\n",
    "    return {'loss': -accuracy, 'status': STATUS_OK }\n",
    "\n",
    "trials = Trials()\n",
    "\n",
    "best_hyperparams = fmin(fn = objective,\n",
    "                        space = space,\n",
    "                        algo = tpe.suggest,\n",
    "                        max_evals = 100,\n",
    "                        trials = trials)"
   ]
  },
  {
   "cell_type": "code",
   "execution_count": 38,
   "metadata": {},
   "outputs": [
    {
     "name": "stdout",
     "output_type": "stream",
     "text": [
      "The best hyperparameters are :  \n",
      "\n",
      "{'colsample_bytree': 0.5607308338900697, 'gamma': 1.0166615191167327, 'max_depth': 17.0, 'min_child_weight': 1.0, 'reg_alpha': 40.0, 'reg_lambda': 0.4244478762830584}\n"
     ]
    }
   ],
   "source": [
    "print(\"The best hyperparameters are : \",\"\\n\")\n",
    "print(best_hyperparams)"
   ]
  },
  {
   "cell_type": "code",
   "execution_count": 39,
   "metadata": {},
   "outputs": [
    {
     "name": "stdout",
     "output_type": "stream",
     "text": [
      "[13:46:43] WARNING: C:/Users/Administrator/workspace/xgboost-win64_release_1.4.0/src/learner.cc:1095: Starting in XGBoost 1.3.0, the default evaluation metric used with the objective 'binary:logistic' was changed from 'error' to 'logloss'. Explicitly set eval_metric if you'd like to restore the old behavior.\n"
     ]
    },
    {
     "data": {
      "text/plain": [
       "XGBClassifier(base_score=0.5, booster='gbtree', colsample_bylevel=1,\n",
       "              colsample_bynode=1, colsample_bytree=0.998807267028738,\n",
       "              gamma=1.321962425893548, gpu_id=-1, importance_type='gain',\n",
       "              interaction_constraints='', learning_rate=0.300000012,\n",
       "              max_delta_step=0, max_depth=10, min_child_weight=0.0, missing=nan,\n",
       "              monotone_constraints='()', n_estimators=100, n_jobs=8,\n",
       "              num_parallel_tree=1, random_state=0, reg_alpha=43.0,\n",
       "              reg_lambda=0.4888063780234211, scale_pos_weight=1, subsample=1,\n",
       "              tree_method='exact', validate_parameters=1, verbosity=None)"
      ]
     },
     "execution_count": 39,
     "metadata": {},
     "output_type": "execute_result"
    }
   ],
   "source": [
    "tuned_xgb = xgb.XGBClassifier(colsample_bytree= 0.998807267028738, gamma= 1.321962425893548,max_depth=10, min_child_weight= 0.0, reg_alpha=43.0, reg_lambda= 0.4888063780234211)\n",
    "tuned_xgb.fit(X_train, y_train)"
   ]
  },
  {
   "cell_type": "code",
   "execution_count": 40,
   "metadata": {},
   "outputs": [
    {
     "data": {
      "text/plain": [
       "0.9609366904983939"
      ]
     },
     "execution_count": 40,
     "metadata": {},
     "output_type": "execute_result"
    }
   ],
   "source": [
    "y_pred = tuned_xgb.predict(X_valid)\n",
    "y_pred = [round(value) for value in y_pred]\n",
    "\n",
    "# Evaluate predictions\n",
    "accuracy_score(y_valid, y_pred)"
   ]
  },
  {
   "cell_type": "code",
   "execution_count": 41,
   "metadata": {},
   "outputs": [
    {
     "name": "stdout",
     "output_type": "stream",
     "text": [
      "ROC AUC after parameter tuning: 0.9917112534176591\n"
     ]
    }
   ],
   "source": [
    "y_pred = tuned_xgb.predict_proba(X_valid)[:,1]\n",
    "print(\"ROC AUC after parameter tuning:\", metrics.roc_auc_score(y_valid, y_pred))"
   ]
  },
  {
   "cell_type": "markdown",
   "metadata": {},
   "source": [
    "After comparing ROC AUC of before and after parameter tuning, we can conclude that our model is performing better without tuning and has the best parameters by default."
   ]
  },
  {
   "cell_type": "markdown",
   "metadata": {},
   "source": [
    "## LightGBM Classifier"
   ]
  },
  {
   "cell_type": "code",
   "execution_count": 42,
   "metadata": {},
   "outputs": [
    {
     "data": {
      "text/plain": [
       "LGBMClassifier()"
      ]
     },
     "execution_count": 42,
     "metadata": {},
     "output_type": "execute_result"
    }
   ],
   "source": [
    "from lightgbm import LGBMClassifier\n",
    "model = LGBMClassifier()\n",
    "model.fit(X_train, y_train)"
   ]
  },
  {
   "cell_type": "code",
   "execution_count": 43,
   "metadata": {},
   "outputs": [
    {
     "data": {
      "text/plain": [
       "0.9778261320070459"
      ]
     },
     "execution_count": 43,
     "metadata": {},
     "output_type": "execute_result"
    }
   ],
   "source": [
    "y_pred = model.predict(X_valid)\n",
    "y_pred = [round(value) for value in y_pred]\n",
    "\n",
    "accuracy_score(y_valid, y_pred)"
   ]
  },
  {
   "cell_type": "code",
   "execution_count": 44,
   "metadata": {},
   "outputs": [
    {
     "name": "stdout",
     "output_type": "stream",
     "text": [
      "ROC AUC before parameter tuning: 0.9977071020656094\n"
     ]
    }
   ],
   "source": [
    "y_pred = model.predict_proba(X_valid)[:,1]\n",
    "print(\"ROC AUC before parameter tuning:\", metrics.roc_auc_score(y_valid, y_pred))"
   ]
  },
  {
   "cell_type": "markdown",
   "metadata": {},
   "source": [
    "### Hyper-Parameter Tuning of LightGBM Classifier"
   ]
  },
  {
   "cell_type": "code",
   "execution_count": 45,
   "metadata": {},
   "outputs": [
    {
     "data": {
      "text/plain": [
       "LGBMClassifier(colsample_bytree=0.9234, metric='None', min_child_samples=399,\n",
       "               min_child_weight=0.1, n_estimators=5000, n_jobs=4, num_leaves=13,\n",
       "               random_state=314, reg_alpha=2, reg_lambda=5, subsample=0.855)"
      ]
     },
     "execution_count": 45,
     "metadata": {},
     "output_type": "execute_result"
    }
   ],
   "source": [
    "import lightgbm as lgb\n",
    "from scipy.stats import randint as sp_randint\n",
    "from scipy.stats import uniform as sp_uniform\n",
    "from sklearn.model_selection import RandomizedSearchCV, GridSearchCV\n",
    "\n",
    "fit_params = {\"early_stopping_rounds\":30, \"eval_metric\" : 'auc', \"eval_set\" : [(X_valid,y_valid)],\n",
    "            'eval_names': ['valid'], 'verbose': 100, 'categorical_feature': 'auto'}\n",
    "\n",
    "test_params = {'num_leaves': sp_randint(6, 50), 'min_child_samples': sp_randint(100, 500), \n",
    "             'min_child_weight': [1e-5, 1e-3, 1e-2, 1e-1, 1, 1e1, 1e2, 1e3, 1e4],\n",
    "             'subsample': sp_uniform(loc=0.2, scale=0.8), \n",
    "             'colsample_bytree': sp_uniform(loc=0.4, scale=0.6),\n",
    "             'reg_alpha': [0, 1e-1, 1, 2, 5, 7, 10, 50, 100],\n",
    "             'reg_lambda': [0, 1e-1, 1, 5, 10, 20, 50, 100]}\n",
    "\n",
    "# Parameter defining the number of HP points to be tested\n",
    "hp_points = 100\n",
    "\n",
    "# n_estimators is set to a \"large value\". The actual number of trees build will depend on early stopping and 5000 define only the absolute maximum\n",
    "clf = lgb.LGBMClassifier(max_depth=-1, random_state=314, silent=True, metric='None', n_jobs=4, n_estimators=5000)\n",
    "gs = RandomizedSearchCV(estimator=clf, param_distributions=test_params, \n",
    "    n_iter=hp_points, scoring='roc_auc', cv=3, refit=True, random_state=314, verbose=True)\n",
    "\n",
    "# Optimal parameters\n",
    "opt_parameters = {'colsample_bytree': 0.9234, 'min_child_samples': 399, 'min_child_weight': 0.1, 'num_leaves': 13, 'reg_alpha': 2, 'reg_lambda': 5, 'subsample': 0.855}\n",
    "\n",
    "clf_sw = lgb.LGBMClassifier(**clf.get_params())\n",
    "# Set optimal parameters\n",
    "clf_sw.set_params(**opt_parameters)"
   ]
  },
  {
   "cell_type": "code",
   "execution_count": 46,
   "metadata": {
    "scrolled": true
   },
   "outputs": [
    {
     "name": "stdout",
     "output_type": "stream",
     "text": [
      "Fitting 5 folds for each of 4 candidates, totalling 20 fits\n",
      "Training until validation scores don't improve for 30 rounds\n",
      "[100]\tvalid's auc: 0.995308\n"
     ]
    },
    {
     "name": "stderr",
     "output_type": "stream",
     "text": [
      "[Parallel(n_jobs=1)]: Using backend SequentialBackend with 1 concurrent workers.\n"
     ]
    },
    {
     "name": "stdout",
     "output_type": "stream",
     "text": [
      "[200]\tvalid's auc: 0.996664\n",
      "[300]\tvalid's auc: 0.997091\n",
      "Early stopping, best iteration is:\n",
      "[358]\tvalid's auc: 0.997231\n",
      "Training until validation scores don't improve for 30 rounds\n",
      "[100]\tvalid's auc: 0.994655\n",
      "[200]\tvalid's auc: 0.996542\n",
      "[300]\tvalid's auc: 0.997067\n",
      "[400]\tvalid's auc: 0.99731\n",
      "[500]\tvalid's auc: 0.99737\n",
      "Early stopping, best iteration is:\n",
      "[479]\tvalid's auc: 0.997373\n",
      "Training until validation scores don't improve for 30 rounds\n",
      "[100]\tvalid's auc: 0.994984\n",
      "[200]\tvalid's auc: 0.996727\n",
      "[300]\tvalid's auc: 0.997192\n",
      "[400]\tvalid's auc: 0.997424\n",
      "Early stopping, best iteration is:\n",
      "[399]\tvalid's auc: 0.997425\n",
      "Training until validation scores don't improve for 30 rounds\n",
      "[100]\tvalid's auc: 0.995066\n",
      "[200]\tvalid's auc: 0.996599\n",
      "[300]\tvalid's auc: 0.997022\n",
      "[400]\tvalid's auc: 0.997173\n",
      "Early stopping, best iteration is:\n",
      "[427]\tvalid's auc: 0.997213\n",
      "Training until validation scores don't improve for 30 rounds\n",
      "[100]\tvalid's auc: 0.994812\n",
      "[200]\tvalid's auc: 0.996506\n",
      "[300]\tvalid's auc: 0.996918\n",
      "[400]\tvalid's auc: 0.997215\n",
      "Early stopping, best iteration is:\n",
      "[461]\tvalid's auc: 0.997321\n",
      "Training until validation scores don't improve for 30 rounds\n",
      "[100]\tvalid's auc: 0.99544\n",
      "[200]\tvalid's auc: 0.996759\n",
      "[300]\tvalid's auc: 0.99724\n",
      "[400]\tvalid's auc: 0.997385\n",
      "Early stopping, best iteration is:\n",
      "[407]\tvalid's auc: 0.997408\n",
      "Training until validation scores don't improve for 30 rounds\n",
      "[100]\tvalid's auc: 0.995185\n",
      "[200]\tvalid's auc: 0.996819\n",
      "[300]\tvalid's auc: 0.997258\n",
      "Early stopping, best iteration is:\n",
      "[358]\tvalid's auc: 0.997367\n",
      "Training until validation scores don't improve for 30 rounds\n",
      "[100]\tvalid's auc: 0.995405\n",
      "[200]\tvalid's auc: 0.997064\n",
      "[300]\tvalid's auc: 0.997454\n",
      "[400]\tvalid's auc: 0.997637\n",
      "Early stopping, best iteration is:\n",
      "[412]\tvalid's auc: 0.997654\n",
      "Training until validation scores don't improve for 30 rounds\n",
      "[100]\tvalid's auc: 0.995514\n",
      "[200]\tvalid's auc: 0.996835\n",
      "[300]\tvalid's auc: 0.997143\n",
      "[400]\tvalid's auc: 0.997266\n",
      "Early stopping, best iteration is:\n",
      "[412]\tvalid's auc: 0.997292\n",
      "Training until validation scores don't improve for 30 rounds\n",
      "[100]\tvalid's auc: 0.994974\n",
      "[200]\tvalid's auc: 0.996812\n",
      "[300]\tvalid's auc: 0.997202\n",
      "[400]\tvalid's auc: 0.997408\n",
      "[500]\tvalid's auc: 0.997522\n",
      "Early stopping, best iteration is:\n",
      "[510]\tvalid's auc: 0.997532\n",
      "Training until validation scores don't improve for 30 rounds\n",
      "[100]\tvalid's auc: 0.994974\n",
      "[200]\tvalid's auc: 0.996771\n",
      "[300]\tvalid's auc: 0.99714\n",
      "[400]\tvalid's auc: 0.997296\n",
      "[500]\tvalid's auc: 0.997458\n",
      "[600]\tvalid's auc: 0.99755\n",
      "Early stopping, best iteration is:\n",
      "[640]\tvalid's auc: 0.997555\n",
      "Training until validation scores don't improve for 30 rounds\n",
      "[100]\tvalid's auc: 0.995135\n",
      "[200]\tvalid's auc: 0.996798\n",
      "[300]\tvalid's auc: 0.997269\n",
      "[400]\tvalid's auc: 0.997473\n",
      "[500]\tvalid's auc: 0.997536\n",
      "Early stopping, best iteration is:\n",
      "[519]\tvalid's auc: 0.997541\n",
      "Training until validation scores don't improve for 30 rounds\n",
      "[100]\tvalid's auc: 0.995072\n",
      "[200]\tvalid's auc: 0.996805\n",
      "[300]\tvalid's auc: 0.99746\n",
      "[400]\tvalid's auc: 0.997632\n",
      "[500]\tvalid's auc: 0.997698\n",
      "Early stopping, best iteration is:\n",
      "[519]\tvalid's auc: 0.997711\n",
      "Training until validation scores don't improve for 30 rounds\n",
      "[100]\tvalid's auc: 0.994991\n",
      "[200]\tvalid's auc: 0.996727\n",
      "[300]\tvalid's auc: 0.997136\n",
      "[400]\tvalid's auc: 0.997284\n",
      "Early stopping, best iteration is:\n",
      "[411]\tvalid's auc: 0.997291\n",
      "Training until validation scores don't improve for 30 rounds\n",
      "[100]\tvalid's auc: 0.994957\n",
      "[200]\tvalid's auc: 0.996955\n",
      "[300]\tvalid's auc: 0.997377\n",
      "[400]\tvalid's auc: 0.997592\n",
      "[500]\tvalid's auc: 0.99768\n",
      "Early stopping, best iteration is:\n",
      "[512]\tvalid's auc: 0.997683\n",
      "Training until validation scores don't improve for 30 rounds\n",
      "[100]\tvalid's auc: 0.994719\n",
      "[200]\tvalid's auc: 0.996689\n",
      "[300]\tvalid's auc: 0.99717\n",
      "[400]\tvalid's auc: 0.997288\n",
      "[500]\tvalid's auc: 0.997399\n",
      "[600]\tvalid's auc: 0.997473\n",
      "Early stopping, best iteration is:\n",
      "[614]\tvalid's auc: 0.997498\n",
      "Training until validation scores don't improve for 30 rounds\n",
      "[100]\tvalid's auc: 0.994919\n",
      "[200]\tvalid's auc: 0.996761\n",
      "[300]\tvalid's auc: 0.997201\n",
      "[400]\tvalid's auc: 0.997367\n",
      "[500]\tvalid's auc: 0.997445\n",
      "[600]\tvalid's auc: 0.99748\n",
      "Early stopping, best iteration is:\n",
      "[637]\tvalid's auc: 0.997501\n",
      "Training until validation scores don't improve for 30 rounds\n",
      "[100]\tvalid's auc: 0.994868\n",
      "[200]\tvalid's auc: 0.996922\n",
      "[300]\tvalid's auc: 0.997455\n",
      "[400]\tvalid's auc: 0.997586\n",
      "[500]\tvalid's auc: 0.997709\n",
      "Early stopping, best iteration is:\n",
      "[557]\tvalid's auc: 0.997748\n",
      "Training until validation scores don't improve for 30 rounds\n",
      "[100]\tvalid's auc: 0.994603\n",
      "[200]\tvalid's auc: 0.996695\n",
      "[300]\tvalid's auc: 0.99717\n",
      "[400]\tvalid's auc: 0.997299\n",
      "[500]\tvalid's auc: 0.99734\n",
      "Early stopping, best iteration is:\n",
      "[490]\tvalid's auc: 0.997346\n",
      "Training until validation scores don't improve for 30 rounds\n",
      "[100]\tvalid's auc: 0.99446\n",
      "[200]\tvalid's auc: 0.996801\n",
      "[300]\tvalid's auc: 0.997355\n",
      "[400]\tvalid's auc: 0.997521\n",
      "[500]\tvalid's auc: 0.997618\n",
      "[600]\tvalid's auc: 0.997669\n",
      "[700]\tvalid's auc: 0.997713\n",
      "Early stopping, best iteration is:\n",
      "[710]\tvalid's auc: 0.997719\n"
     ]
    },
    {
     "name": "stderr",
     "output_type": "stream",
     "text": [
      "[Parallel(n_jobs=1)]: Done  20 out of  20 | elapsed:   13.0s finished\n"
     ]
    },
    {
     "name": "stdout",
     "output_type": "stream",
     "text": [
      "Training until validation scores don't improve for 30 rounds\n",
      "[100]\tvalid's auc: 0.995698\n",
      "[200]\tvalid's auc: 0.997239\n",
      "[300]\tvalid's auc: 0.997703\n",
      "[400]\tvalid's auc: 0.997887\n",
      "Early stopping, best iteration is:\n",
      "[454]\tvalid's auc: 0.997944\n",
      "Best score reached: 0.9969521280590967 with params: {'scale_pos_weight': 12} \n"
     ]
    }
   ],
   "source": [
    "gs_sample_weight = GridSearchCV(estimator=clf_sw, param_grid={'scale_pos_weight':[1,2,6,12]},\n",
    "                                scoring='roc_auc', cv=5, refit=True, verbose=True)\n",
    "\n",
    "gs_sample_weight.fit(X_train, y_train, **fit_params)\n",
    "print('Best score reached: {} with params: {} '.format(gs_sample_weight.best_score_, gs_sample_weight.best_params_))"
   ]
  },
  {
   "cell_type": "code",
   "execution_count": 47,
   "metadata": {
    "scrolled": true
   },
   "outputs": [
    {
     "name": "stdout",
     "output_type": "stream",
     "text": [
      "Training until validation scores don't improve for 30 rounds\n",
      "[100]\tvalid's auc: 0.994572\n",
      "[200]\tvalid's auc: 0.996353\n",
      "[300]\tvalid's auc: 0.996845\n",
      "[400]\tvalid's auc: 0.996999\n",
      "[500]\tvalid's auc: 0.99707\n",
      "[600]\tvalid's auc: 0.997114\n",
      "[700]\tvalid's auc: 0.997146\n",
      "[800]\tvalid's auc: 0.997163\n",
      "[900]\tvalid's auc: 0.997172\n",
      "[1000]\tvalid's auc: 0.997181\n",
      "[1100]\tvalid's auc: 0.99719\n",
      "[1200]\tvalid's auc: 0.997198\n",
      "[1300]\tvalid's auc: 0.997206\n",
      "[1400]\tvalid's auc: 0.997212\n",
      "[1500]\tvalid's auc: 0.997219\n",
      "[1600]\tvalid's auc: 0.997226\n",
      "[1700]\tvalid's auc: 0.997232\n",
      "[1800]\tvalid's auc: 0.997238\n",
      "[1900]\tvalid's auc: 0.997242\n",
      "[2000]\tvalid's auc: 0.997248\n",
      "[2100]\tvalid's auc: 0.997253\n",
      "[2200]\tvalid's auc: 0.997261\n",
      "[2300]\tvalid's auc: 0.997268\n",
      "[2400]\tvalid's auc: 0.997274\n",
      "[2500]\tvalid's auc: 0.997278\n",
      "[2600]\tvalid's auc: 0.997282\n",
      "[2700]\tvalid's auc: 0.997286\n",
      "Early stopping, best iteration is:\n",
      "[2708]\tvalid's auc: 0.997286\n"
     ]
    },
    {
     "data": {
      "text/plain": [
       "LGBMClassifier(colsample_bytree=0.9234, metric='None', min_child_samples=399,\n",
       "               min_child_weight=0.1, n_estimators=5000, n_jobs=4, num_leaves=13,\n",
       "               random_state=314, reg_alpha=2, reg_lambda=5, subsample=0.855)"
      ]
     },
     "execution_count": 47,
     "metadata": {},
     "output_type": "execute_result"
    }
   ],
   "source": [
    "def learning_rate_decay_power(current_iter):\n",
    "    base_learning_rate = 0.1\n",
    "    lr = base_learning_rate  * np.power(0.995, current_iter)\n",
    "    return lr if lr > 1e-3 else 1e-3\n",
    "\n",
    "# Configure locally from hardcoded values\n",
    "clf_final = lgb.LGBMClassifier(**clf.get_params())\n",
    "\n",
    "# Set optimal parameters\n",
    "clf_final.set_params(**opt_parameters)\n",
    "\n",
    "# Train the final model with learning rate decay\n",
    "clf_final.fit(X_train, y_train, **fit_params, callbacks=[lgb.reset_parameter(learning_rate = learning_rate_decay_power)])"
   ]
  },
  {
   "cell_type": "code",
   "execution_count": 48,
   "metadata": {},
   "outputs": [
    {
     "data": {
      "text/plain": [
       "LGBMClassifier(colsample_bytree=0.9234, metric='None', min_child_samples=399,\n",
       "               min_child_weight=0.1, n_estimators=5000, n_jobs=4, num_leaves=13,\n",
       "               random_state=314, reg_alpha=2, reg_lambda=5, subsample=0.855)"
      ]
     },
     "execution_count": 48,
     "metadata": {},
     "output_type": "execute_result"
    }
   ],
   "source": [
    "clf_final"
   ]
  },
  {
   "cell_type": "code",
   "execution_count": 49,
   "metadata": {
    "scrolled": true
   },
   "outputs": [
    {
     "name": "stdout",
     "output_type": "stream",
     "text": [
      "ROC AUC after parameter tuning: 0.9972863580861522\n"
     ]
    }
   ],
   "source": [
    "y_pred = clf_final.predict_proba(X_valid)[:,1]\n",
    "print(\"ROC AUC after parameter tuning:\", metrics.roc_auc_score(y_valid, y_pred))"
   ]
  },
  {
   "cell_type": "markdown",
   "metadata": {},
   "source": [
    "### Save LightGBM model"
   ]
  },
  {
   "cell_type": "code",
   "execution_count": 53,
   "metadata": {},
   "outputs": [],
   "source": [
    "# import pickle\n",
    "# pickle_out = open(\"lgbm_model.pkl\", \"wb\")\n",
    "# pickle.dump(model, pickle_out)\n",
    "# pickle_out.close()"
   ]
  },
  {
   "cell_type": "markdown",
   "metadata": {},
   "source": [
    "After comparing ROC AUC of before and after parameter tuning, we can conclude that our model is performing better without tuning and has the best parameters by default."
   ]
  },
  {
   "cell_type": "markdown",
   "metadata": {},
   "source": [
    "### Conclusion\n",
    "\n",
    "After observing and comparing both XGBClassifier and LightGBMClassifier, we saw that XGBoost and LightGBMClassifier are performing approximately similar but LightGBMClassifier is 3 times faster which will boost the performace of our overall system. So we will be using **LightGBMClassifier**."
   ]
  }
 ],
 "metadata": {
  "kernelspec": {
   "display_name": "Python 3",
   "language": "python",
   "name": "python3"
  },
  "language_info": {
   "codemirror_mode": {
    "name": "ipython",
    "version": 3
   },
   "file_extension": ".py",
   "mimetype": "text/x-python",
   "name": "python",
   "nbconvert_exporter": "python",
   "pygments_lexer": "ipython3",
   "version": "3.8.1"
  }
 },
 "nbformat": 4,
 "nbformat_minor": 4
}
